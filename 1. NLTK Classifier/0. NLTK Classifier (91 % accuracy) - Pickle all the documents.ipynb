{
 "cells": [
  {
   "cell_type": "code",
   "execution_count": 109,
   "metadata": {
    "collapsed": true
   },
   "outputs": [],
   "source": [
    "import pandas as pd\n",
    "import numpy as np\n",
    "import os\n",
    "import seaborn as sns\n",
    "import matplotlib.pyplot as plt\n",
    "import itertools\n",
    "\n",
    "from collections import defaultdict"
   ]
  },
  {
   "cell_type": "code",
   "execution_count": 3,
   "metadata": {
    "collapsed": true
   },
   "outputs": [],
   "source": [
    "import nltk\n",
    "import random\n",
    "#from nltk.corpus import movie_reviews\n",
    "from nltk.classify.scikitlearn import SklearnClassifier\n",
    "import pickle\n",
    "from sklearn.naive_bayes import MultinomialNB, BernoulliNB\n",
    "from sklearn.linear_model import LogisticRegression, SGDClassifier\n",
    "from sklearn.svm import SVC, LinearSVC, NuSVC\n",
    "from nltk.classify import ClassifierI\n",
    "from statistics import mode\n",
    "from nltk.tokenize import word_tokenize\n",
    "from nltk.stem import PorterStemmer\n",
    "from nltk.tokenize import sent_tokenize, word_tokenize"
   ]
  },
  {
   "cell_type": "code",
   "execution_count": 4,
   "metadata": {
    "collapsed": false
   },
   "outputs": [],
   "source": [
    "def read_files():\n",
    "    d = defaultdict(list)\n",
    "\n",
    "    parent_dir = '../Data Sets/'\n",
    "\n",
    "    path_dic = {'B': 'business_s.csv', 'C':'checkin.csv', 'R':'review_s.csv'\\\n",
    "               , 'T':'tip.csv', 'U':'user.csv'}\n",
    "\n",
    "    for key in path_dic:\n",
    "        d[key] = pd.read_csv(parent_dir + path_dic[key]).drop('Unnamed: 0', 1)\n",
    "    return d\n",
    "def show():\n",
    "    sns.despine()\n",
    "    plt.show()\n",
    "    \n",
    "def clean_format(w):\n",
    "    w = w.lower().replace('.', '').replace(',', '').replace('!', '')\n",
    "    #.replace('+', '').replace('(', '').replace(')', '')\n",
    "    return w\n",
    "                    \n"
   ]
  },
  {
   "cell_type": "code",
   "execution_count": 5,
   "metadata": {
    "collapsed": true
   },
   "outputs": [],
   "source": [
    "d = read_files()"
   ]
  },
  {
   "cell_type": "markdown",
   "metadata": {},
   "source": [
    "# NLTK: creating classifiers, pickle them"
   ]
  },
  {
   "cell_type": "code",
   "execution_count": 35,
   "metadata": {
    "collapsed": true
   },
   "outputs": [],
   "source": [
    "d['RB'] = d['R'].merge(d['B'], on = 'business_id', how = 'inner')\n",
    "d['RB'] = d['RB'].dropna(subset = ['is_open'])"
   ]
  },
  {
   "cell_type": "code",
   "execution_count": 36,
   "metadata": {
    "collapsed": false
   },
   "outputs": [
    {
     "data": {
      "text/html": [
       "<div>\n",
       "<style scoped>\n",
       "    .dataframe tbody tr th:only-of-type {\n",
       "        vertical-align: middle;\n",
       "    }\n",
       "\n",
       "    .dataframe tbody tr th {\n",
       "        vertical-align: top;\n",
       "    }\n",
       "\n",
       "    .dataframe thead th {\n",
       "        text-align: right;\n",
       "    }\n",
       "</style>\n",
       "<table border=\"1\" class=\"dataframe\">\n",
       "  <thead>\n",
       "    <tr style=\"text-align: right;\">\n",
       "      <th></th>\n",
       "      <th>business_id</th>\n",
       "      <th>cool</th>\n",
       "      <th>date</th>\n",
       "      <th>funny</th>\n",
       "      <th>review_id</th>\n",
       "      <th>review_star</th>\n",
       "      <th>text</th>\n",
       "      <th>useful</th>\n",
       "      <th>user_id</th>\n",
       "      <th>address</th>\n",
       "      <th>...</th>\n",
       "      <th>latitude</th>\n",
       "      <th>longitude</th>\n",
       "      <th>name</th>\n",
       "      <th>neighborhood</th>\n",
       "      <th>postal_code</th>\n",
       "      <th>review_count</th>\n",
       "      <th>buz_star</th>\n",
       "      <th>state</th>\n",
       "      <th>price</th>\n",
       "      <th>credit_card</th>\n",
       "    </tr>\n",
       "  </thead>\n",
       "  <tbody>\n",
       "    <tr>\n",
       "      <th>0</th>\n",
       "      <td>fjMXGgOr3aCxnN48kovZ_Q</td>\n",
       "      <td>0</td>\n",
       "      <td>2015-03-09</td>\n",
       "      <td>0.0</td>\n",
       "      <td>3BBCHVND9tDPNliTFoLCHA</td>\n",
       "      <td>5.0</td>\n",
       "      <td>We recently decided to give this place another...</td>\n",
       "      <td>0.0</td>\n",
       "      <td>bCrpStRCku_gEX3Iwuv94A</td>\n",
       "      <td>5051 W Craig Rd</td>\n",
       "      <td>...</td>\n",
       "      <td>36.238959</td>\n",
       "      <td>-115.211568</td>\n",
       "      <td>Craig Road Animal Hospital</td>\n",
       "      <td>Northwest</td>\n",
       "      <td>89130</td>\n",
       "      <td>192</td>\n",
       "      <td>4.0</td>\n",
       "      <td>NV</td>\n",
       "      <td>NaN</td>\n",
       "      <td>NaN</td>\n",
       "    </tr>\n",
       "  </tbody>\n",
       "</table>\n",
       "<p>1 rows × 25 columns</p>\n",
       "</div>"
      ],
      "text/plain": [
       "              business_id  cool        date  funny               review_id  \\\n",
       "0  fjMXGgOr3aCxnN48kovZ_Q     0  2015-03-09    0.0  3BBCHVND9tDPNliTFoLCHA   \n",
       "\n",
       "   review_star                                               text  useful  \\\n",
       "0          5.0  We recently decided to give this place another...     0.0   \n",
       "\n",
       "                  user_id          address     ...       latitude   longitude  \\\n",
       "0  bCrpStRCku_gEX3Iwuv94A  5051 W Craig Rd     ...      36.238959 -115.211568   \n",
       "\n",
       "                         name neighborhood  postal_code  review_count  \\\n",
       "0  Craig Road Animal Hospital    Northwest        89130           192   \n",
       "\n",
       "   buz_star state price credit_card  \n",
       "0       4.0    NV   NaN         NaN  \n",
       "\n",
       "[1 rows x 25 columns]"
      ]
     },
     "execution_count": 36,
     "metadata": {},
     "output_type": "execute_result"
    }
   ],
   "source": [
    "d['RB'].rename(columns = {'stars_x' : 'review_star', 'stars_y':'buz_star'}, inplace = True)\n",
    "d['RB'].head(1)"
   ]
  },
  {
   "cell_type": "code",
   "execution_count": 37,
   "metadata": {
    "collapsed": false
   },
   "outputs": [
    {
     "name": "stdout",
     "output_type": "stream",
     "text": [
      "['business_id', 'cool', 'date', 'funny', 'review_id', 'review_star', 'text', 'useful', 'user_id', 'address', 'attributes', 'categories', 'city', 'hours', 'is_open', 'latitude', 'longitude', 'name', 'neighborhood', 'postal_code', 'review_count', 'buz_star', 'state', 'price', 'credit_card']\n"
     ]
    }
   ],
   "source": [
    "print(list(d['RB']))"
   ]
  },
  {
   "cell_type": "markdown",
   "metadata": {},
   "source": [
    "# NLTK preparation"
   ]
  },
  {
   "cell_type": "code",
   "execution_count": 38,
   "metadata": {
    "collapsed": false
   },
   "outputs": [],
   "source": [
    "documents = [(t, star) for t,star in zip(d['RB']['text'], d['RB']['review_star'])]\n",
    "\n",
    "save_documents = open(\"pickled_algos/documents.pickle\",\"wb\")\n",
    "pickle.dump(documents, save_documents)\n",
    "save_documents.close()"
   ]
  },
  {
   "cell_type": "markdown",
   "metadata": {},
   "source": [
    "Let's take look at the first review:"
   ]
  },
  {
   "cell_type": "code",
   "execution_count": 39,
   "metadata": {
    "collapsed": false
   },
   "outputs": [
    {
     "name": "stdout",
     "output_type": "stream",
     "text": [
      "(\"We recently decided to give this place another try after having issues at our normal vet and I'm very glad we did! We transferred all of our pets records over here and plan on using them and only them. The receptionists are always on top of everything, friendly and helpful. Both the vet techs as well as the vets have also been very friendly, helpful and knowledgeable. We had an incident with one of or dogs, Miracle, and Dr.Finder took GREAT care of her and now Miracle LOVES her. We are very pleased with the treatment our animals have been receiving here!\", 5.0)\n"
     ]
    }
   ],
   "source": [
    "print(documents[0])"
   ]
  },
  {
   "cell_type": "code",
   "execution_count": 40,
   "metadata": {
    "collapsed": false
   },
   "outputs": [
    {
     "name": "stdout",
     "output_type": "stream",
     "text": [
      "['python', 'python', 'python', 'python', 'pythonli']\n"
     ]
    }
   ],
   "source": [
    "# We will use the stemmer to stem all the words\n",
    "ps = PorterStemmer()\n",
    "example_words = [\"python\",\"pythoner\",\"pythoning\",\"pythoned\",\"pythonly\"]\n",
    "\n",
    "print([ps.stem(w) for w in example_words])"
   ]
  },
  {
   "cell_type": "markdown",
   "metadata": {},
   "source": [
    "Remove stop words? Something to consider. But turned out this decreases accuracy..."
   ]
  },
  {
   "cell_type": "code",
   "execution_count": 12,
   "metadata": {
    "collapsed": false
   },
   "outputs": [
    {
     "name": "stdout",
     "output_type": "stream",
     "text": [
      "This nonsense. I hate place. The food bad service terrible\n"
     ]
    }
   ],
   "source": [
    "from nltk.corpus import stopwords\n",
    " \n",
    "data = \"This is nonsense. I hate this place. The food is bad and the service is terrible\"\n",
    "stopWords = list(set(stopwords.words('english')))\n",
    "\n",
    "# stopWords[:5]\n",
    "print(' '.join([w for w in data.split() if w not in stopWords ]))"
   ]
  },
  {
   "cell_type": "code",
   "execution_count": 143,
   "metadata": {
    "collapsed": false
   },
   "outputs": [
    {
     "name": "stdout",
     "output_type": "stream",
     "text": [
      "[('the', 25207), ('and', 17402), ('i', 13434), ('a', 12866), ('to', 12566), ('wa', 9003), ('of', 7497), ('it', 6576), ('for', 6096), ('is', 5996), ('in', 5677), ('my', 4878), ('that', 4374), ('with', 4131), ('we', 4044)]\n",
      "stupid appeared: 26 times\n"
     ]
    }
   ],
   "source": [
    "all_words = []\n",
    "\n",
    "for (t, star) in documents:\n",
    "    for word in t.split():\n",
    "        w = clean_format(word)\n",
    "        all_words.append(ps.stem(w))\n",
    "        \n",
    "all_words = nltk.FreqDist(all_words)\n",
    "print(all_words.most_common(15))\n",
    "print(\"stupid appeared: \" + str(all_words['stupid']) + \" times\")"
   ]
  },
  {
   "cell_type": "code",
   "execution_count": 144,
   "metadata": {
    "collapsed": false
   },
   "outputs": [
    {
     "name": "stdout",
     "output_type": "stream",
     "text": [
      "['the', 'and', 'i', 'a', 'to', 'wa', 'of', 'it', 'for', 'is']\n"
     ]
    }
   ],
   "source": [
    "words_features = [s for (s,_) in list(all_words.most_common(5000))]\n",
    "\n",
    "save_word_features = open(\"pickled_algos/word_features5k.pickle\",\"wb\")\n",
    "pickle.dump(words_features, save_word_features)\n",
    "save_word_features.close()\n",
    "\n",
    "print(words_features[:10])"
   ]
  },
  {
   "cell_type": "code",
   "execution_count": 145,
   "metadata": {
    "collapsed": false
   },
   "outputs": [
    {
     "name": "stdout",
     "output_type": "stream",
     "text": [
      "({'one': True, 'took': True, 'to': True, 'we': True, 'plan': True, 'help': True, 'recent': True, 'glad': True, 'tri': True, 'drfinder': False, 'now': True, 'great': True, 'all': True, 'top': True, 'the': True, 'anim': True, 'an': True, 'her': True, 'pleas': True, 'at': True, 'thi': True, 'care': True, 'well': True, 'anoth': True, 'been': True, 'receiv': True, 'normal': True, 'here': True, 'record': True, 'on': True, 'knowledg': True, 'and': True, 'miracl': True, 'after': True, 'of': True, 'or': True, 'incid': True, 'have': True, 'alway': True, 'transfer': True, \"i'm\": True, 'them': True, 'over': True, 'treatment': True, 'dog': True, 'our': True, 'did': True, 'use': True, 'are': True, 'receptionist': True, 'veri': True, 'tech': True, 'onli': True, 'everyth': True, 'pet': True, 'as': True, 'give': True, 'had': True, 'friendli': True, 'with': True, 'both': True, 'decid': True, 'love': True, 'place': True, 'also': True, 'vet': True, 'issu': True}, 5.0)\n"
     ]
    }
   ],
   "source": [
    "def find_features(document):\n",
    "    words = set(document.split())\n",
    "    features = {}\n",
    "    for w in words:\n",
    "        w = clean_format(w)\n",
    "        w = ps.stem(w)\n",
    "        features[w] = (w in words_features)\n",
    "    return features\n",
    "\n",
    "featuresets = [(find_features(doc), star) for (doc,star) in documents]\n",
    "\n",
    "print(featuresets[0])"
   ]
  },
  {
   "cell_type": "code",
   "execution_count": 146,
   "metadata": {
    "collapsed": false
   },
   "outputs": [
    {
     "data": {
      "text/plain": [
       "4349"
      ]
     },
     "execution_count": 146,
     "metadata": {},
     "output_type": "execute_result"
    }
   ],
   "source": [
    "len(featuresets)"
   ]
  },
  {
   "cell_type": "code",
   "execution_count": 147,
   "metadata": {
    "collapsed": false
   },
   "outputs": [
    {
     "name": "stdout",
     "output_type": "stream",
     "text": [
      "pos rate:  0.7429245283018868\n",
      "len of temp:  3816\n"
     ]
    }
   ],
   "source": [
    "# POS to NEG encode\n",
    "temp = []\n",
    "pos_count = 0\n",
    "for i in range(len(featuresets)):\n",
    "    if featuresets[i][1] >= 4:\n",
    "        temp.append((featuresets[i][0], 'pos'))\n",
    "        pos_count = pos_count + 1\n",
    "    elif featuresets[i][1] <= 2:\n",
    "        temp.append((featuresets[i][0], 'neg'))\n",
    "print(\"pos rate: \", pos_count / len(temp))\n",
    "print(\"len of temp: \", len(temp))"
   ]
  },
  {
   "cell_type": "markdown",
   "metadata": {},
   "source": [
    "# Trying out some clfs"
   ]
  },
  {
   "cell_type": "code",
   "execution_count": 148,
   "metadata": {
    "collapsed": false
   },
   "outputs": [
    {
     "name": "stdout",
     "output_type": "stream",
     "text": [
      "3000\n",
      "816\n"
     ]
    }
   ],
   "source": [
    "training_set = temp[:3000]\n",
    "testing_set = temp[3000:]\n",
    "\n",
    "print(len(training_set))\n",
    "print(len(testing_set))"
   ]
  },
  {
   "cell_type": "code",
   "execution_count": 149,
   "metadata": {
    "collapsed": false
   },
   "outputs": [
    {
     "name": "stdout",
     "output_type": "stream",
     "text": [
      "Naive Bayes Classifier accuracy:  46.200980392156865\n",
      "Most Informative Features\n",
      "                  refund = True              neg : pos    =     49.9 : 1.0\n",
      "                    zero = True              neg : pos    =     23.2 : 1.0\n",
      "                   bewar = True              neg : pos    =     21.7 : 1.0\n",
      "                    rude = True              neg : pos    =     21.7 : 1.0\n",
      "                  garbag = True              neg : pos    =     19.8 : 1.0\n",
      "                    dirt = True              neg : pos    =     19.8 : 1.0\n",
      "                   ignor = True              neg : pos    =     18.6 : 1.0\n",
      "                 terribl = True              neg : pos    =     18.5 : 1.0\n",
      "              underwhelm = True              neg : pos    =     17.9 : 1.0\n",
      "               tasteless = True              neg : pos    =     17.9 : 1.0\n",
      "                knowledg = True              pos : neg    =     17.8 : 1.0\n",
      "                    shut = True              neg : pos    =     16.0 : 1.0\n",
      "                  intent = True              neg : pos    =     16.0 : 1.0\n",
      "              seriously? = True              neg : pos    =     16.0 : 1.0\n",
      "                   upset = True              neg : pos    =     15.7 : 1.0\n"
     ]
    }
   ],
   "source": [
    "np.random.seed(4747)\n",
    "\n",
    "clf = nltk.NaiveBayesClassifier.train(training_set)\n",
    "print(\"Naive Bayes Classifier accuracy: \", nltk.classify.accuracy(clf, testing_set) * 100)\n",
    "clf.show_most_informative_features(15)"
   ]
  },
  {
   "cell_type": "markdown",
   "metadata": {},
   "source": [
    "## Combing multiple classifiers"
   ]
  },
  {
   "cell_type": "code",
   "execution_count": 162,
   "metadata": {
    "collapsed": false
   },
   "outputs": [
    {
     "name": "stdout",
     "output_type": "stream",
     "text": [
      "Original Naive Bayes Algo accuracy percent: 46.200980392156865\n",
      "Most Informative Features\n",
      "                  refund = True              neg : pos    =     49.9 : 1.0\n",
      "                    zero = True              neg : pos    =     23.2 : 1.0\n",
      "                   bewar = True              neg : pos    =     21.7 : 1.0\n",
      "                    rude = True              neg : pos    =     21.7 : 1.0\n",
      "                  garbag = True              neg : pos    =     19.8 : 1.0\n",
      "                    dirt = True              neg : pos    =     19.8 : 1.0\n",
      "                   ignor = True              neg : pos    =     18.6 : 1.0\n",
      "                 terribl = True              neg : pos    =     18.5 : 1.0\n",
      "              underwhelm = True              neg : pos    =     17.9 : 1.0\n",
      "               tasteless = True              neg : pos    =     17.9 : 1.0\n",
      "                knowledg = True              pos : neg    =     17.8 : 1.0\n",
      "                    shut = True              neg : pos    =     16.0 : 1.0\n",
      "                  intent = True              neg : pos    =     16.0 : 1.0\n",
      "              seriously? = True              neg : pos    =     16.0 : 1.0\n",
      "                   upset = True              neg : pos    =     15.7 : 1.0\n",
      "MNB_classifier accuracy percent: 88.48039215686273\n",
      "BernoulliNB_classifier accuracy percent: 80.02450980392157\n",
      "LogisticRegression_classifier accuracy percent: 91.05392156862744\n",
      "LinearSVC_classifier accuracy percent: 90.19607843137256\n",
      "PolySVC_classifier accuracy percent: 75.8578431372549\n",
      "RadialSVC_classifier accuracy percent: 75.8578431372549\n",
      "NuSVC_classifier accuracy percent: 81.12745098039215\n",
      "SGDClassifier accuracy percent: 90.19607843137256\n"
     ]
    }
   ],
   "source": [
    "np.random.seed(4747)\n",
    "\n",
    "classifier = nltk.NaiveBayesClassifier.train(training_set)\n",
    "print(\"Original Naive Bayes Algo accuracy percent:\", (nltk.classify.accuracy(classifier, testing_set))*100)\n",
    "classifier.show_most_informative_features(15)\n",
    "\n",
    "###############\n",
    "save_classifier = open(\"pickled_algos/originalnaivebayes5k.pickle\",\"wb\")\n",
    "pickle.dump(classifier, save_classifier)\n",
    "save_classifier.close()\n",
    "\n",
    "MNB_classifier = SklearnClassifier(MultinomialNB())\n",
    "MNB_classifier.train(training_set)\n",
    "print(\"MNB_classifier accuracy percent:\", (nltk.classify.accuracy(MNB_classifier, testing_set))*100)\n",
    "\n",
    "save_classifier = open(\"pickled_algos/MNB_classifier5k.pickle\",\"wb\")\n",
    "pickle.dump(MNB_classifier, save_classifier)\n",
    "save_classifier.close()\n",
    "\n",
    "BernoulliNB_classifier = SklearnClassifier(BernoulliNB())\n",
    "BernoulliNB_classifier.train(training_set)\n",
    "print(\"BernoulliNB_classifier accuracy percent:\", (nltk.classify.accuracy(BernoulliNB_classifier, testing_set))*100)\n",
    "\n",
    "save_classifier = open(\"pickled_algos/BernoulliNB_classifier5k.pickle\",\"wb\")\n",
    "pickle.dump(BernoulliNB_classifier, save_classifier)\n",
    "save_classifier.close()\n",
    "\n",
    "LogisticRegression_classifier = SklearnClassifier(LogisticRegression())\n",
    "LogisticRegression_classifier.train(training_set)\n",
    "print(\"LogisticRegression_classifier accuracy percent:\", (nltk.classify.accuracy(LogisticRegression_classifier, testing_set))*100)\n",
    "\n",
    "save_classifier = open(\"pickled_algos/LogisticRegression_classifier5k.pickle\",\"wb\")\n",
    "pickle.dump(LogisticRegression_classifier, save_classifier)\n",
    "save_classifier.close()\n",
    "\n",
    "LinearSVC_classifier = SklearnClassifier(LinearSVC())\n",
    "LinearSVC_classifier.train(training_set)\n",
    "print(\"LinearSVC_classifier accuracy percent:\", (nltk.classify.accuracy(LinearSVC_classifier, testing_set))*100)\n",
    "\n",
    "save_classifier = open(\"pickled_algos/LinearSVC_classifier5k.pickle\",\"wb\")\n",
    "pickle.dump(LinearSVC_classifier, save_classifier)\n",
    "save_classifier.close()\n",
    "\n",
    "PolySVC_classifier = SklearnClassifier(SVC(kernel = 'poly'))\n",
    "PolySVC_classifier.train(training_set)\n",
    "print(\"PolySVC_classifier accuracy percent:\", (nltk.classify.accuracy(PolySVC_classifier, testing_set))*100)\n",
    "\n",
    "save_classifier = open(\"pickled_algos/PolySVC_classifier5k.pickle\",\"wb\")\n",
    "pickle.dump(PolySVC_classifier, save_classifier)\n",
    "save_classifier.close()\n",
    "\n",
    "RadialSVC_classifier = SklearnClassifier(SVC(kernel = 'rbf'))\n",
    "RadialSVC_classifier.train(training_set)\n",
    "print(\"RadialSVC_classifier accuracy percent:\", (nltk.classify.accuracy(RadialSVC_classifier, testing_set))*100)\n",
    "\n",
    "save_classifier = open(\"pickled_algos/RadialSVC_classifier5k.pickle\",\"wb\")\n",
    "pickle.dump(RadialSVC_classifier, save_classifier)\n",
    "save_classifier.close()\n",
    "\n",
    "NuSVC_classifier = SklearnClassifier(NuSVC())\n",
    "NuSVC_classifier.train(training_set)\n",
    "print(\"NuSVC_classifier accuracy percent:\", (nltk.classify.accuracy(NuSVC_classifier, testing_set))*100)\n",
    "\n",
    "save_classifier = open(\"pickled_algos/NuSVC_classifier5k.pickle\",\"wb\")\n",
    "pickle.dump(LinearSVC_classifier, save_classifier)\n",
    "save_classifier.close()\n",
    "\n",
    "SGDC_classifier = SklearnClassifier(SGDClassifier())\n",
    "SGDC_classifier.train(training_set)\n",
    "print(\"SGDClassifier accuracy percent:\",nltk.classify.accuracy(SGDC_classifier, testing_set)*100)\n",
    "\n",
    "save_classifier = open(\"pickled_algos/SGDC_classifier5k.pickle\",\"wb\")\n",
    "pickle.dump(SGDC_classifier, save_classifier)\n",
    "save_classifier.close()"
   ]
  },
  {
   "cell_type": "markdown",
   "metadata": {},
   "source": [
    "Now let's combine the clfs！"
   ]
  },
  {
   "cell_type": "code",
   "execution_count": 160,
   "metadata": {
    "collapsed": false
   },
   "outputs": [
    {
     "name": "stdout",
     "output_type": "stream",
     "text": [
      "voted_classifier accuracy percent: 91.54411764705883\n"
     ]
    }
   ],
   "source": [
    "class VoteClassifier(ClassifierI):\n",
    "    def __init__(self, *classifiers):\n",
    "        self._classifiers = classifiers\n",
    "\n",
    "    def classify(self, features):\n",
    "        votes = []\n",
    "        for c in self._classifiers:\n",
    "            v = c.classify(features)\n",
    "            votes.append(v)\n",
    "        return mode(votes)\n",
    "\n",
    "    def confidence(self, features):\n",
    "        votes = []\n",
    "        for c in self._classifiers:\n",
    "            v = c.classify(features)\n",
    "            votes.append(v)\n",
    "\n",
    "        chosen_class = votes.count(mode(votes))\n",
    "        return chosen_class / len(votes)\n",
    "    \n",
    "voted_classifier = VoteClassifier(MNB_classifier,\n",
    "                                  LogisticRegression_classifier, \n",
    "                                  LinearSVC_classifier) \n",
    "#                                   MNB_classifier, \n",
    "#                                   NuSVC_classifier)\n",
    "print(\"voted_classifier accuracy percent:\", (nltk.classify.accuracy(voted_classifier, testing_set))*100)\n"
   ]
  },
  {
   "cell_type": "markdown",
   "metadata": {},
   "source": [
    "91.54 % is really impressive!!!!!!!"
   ]
  },
  {
   "cell_type": "code",
   "execution_count": 89,
   "metadata": {
    "collapsed": true
   },
   "outputs": [],
   "source": [
    "def sentiment(text):\n",
    "    feats = find_features(text)\n",
    "    return voted_classifier.classify(feats),voted_classifier.confidence(feats)"
   ]
  },
  {
   "cell_type": "markdown",
   "metadata": {},
   "source": [
    "# Looking at the misclassified ones..."
   ]
  },
  {
   "cell_type": "code",
   "execution_count": 99,
   "metadata": {
    "collapsed": false
   },
   "outputs": [
    {
     "data": {
      "text/html": [
       "<div>\n",
       "<style scoped>\n",
       "    .dataframe tbody tr th:only-of-type {\n",
       "        vertical-align: middle;\n",
       "    }\n",
       "\n",
       "    .dataframe tbody tr th {\n",
       "        vertical-align: top;\n",
       "    }\n",
       "\n",
       "    .dataframe thead th {\n",
       "        text-align: right;\n",
       "    }\n",
       "</style>\n",
       "<table border=\"1\" class=\"dataframe\">\n",
       "  <thead>\n",
       "    <tr style=\"text-align: right;\">\n",
       "      <th></th>\n",
       "      <th>actual</th>\n",
       "      <th>confidence</th>\n",
       "      <th>predicted</th>\n",
       "      <th>text</th>\n",
       "    </tr>\n",
       "  </thead>\n",
       "  <tbody>\n",
       "    <tr>\n",
       "      <th>0</th>\n",
       "      <td>2.0</td>\n",
       "      <td>0.666667</td>\n",
       "      <td>neg</td>\n",
       "      <td>You read all the reviews and get the idea what...</td>\n",
       "    </tr>\n",
       "    <tr>\n",
       "      <th>1</th>\n",
       "      <td>5.0</td>\n",
       "      <td>1.000000</td>\n",
       "      <td>pos</td>\n",
       "      <td>Heather does the best massages around! So rela...</td>\n",
       "    </tr>\n",
       "    <tr>\n",
       "      <th>2</th>\n",
       "      <td>5.0</td>\n",
       "      <td>1.000000</td>\n",
       "      <td>pos</td>\n",
       "      <td>We went to this location on Friday evening and...</td>\n",
       "    </tr>\n",
       "    <tr>\n",
       "      <th>3</th>\n",
       "      <td>3.0</td>\n",
       "      <td>0.666667</td>\n",
       "      <td>neg</td>\n",
       "      <td>I will admit, I am not a pinterest fan. I kind...</td>\n",
       "    </tr>\n",
       "    <tr>\n",
       "      <th>4</th>\n",
       "      <td>5.0</td>\n",
       "      <td>1.000000</td>\n",
       "      <td>pos</td>\n",
       "      <td>The food here is great if you're looking for s...</td>\n",
       "    </tr>\n",
       "  </tbody>\n",
       "</table>\n",
       "</div>"
      ],
      "text/plain": [
       "   actual  confidence predicted  \\\n",
       "0     2.0    0.666667       neg   \n",
       "1     5.0    1.000000       pos   \n",
       "2     5.0    1.000000       pos   \n",
       "3     3.0    0.666667       neg   \n",
       "4     5.0    1.000000       pos   \n",
       "\n",
       "                                                text  \n",
       "0  You read all the reviews and get the idea what...  \n",
       "1  Heather does the best massages around! So rela...  \n",
       "2  We went to this location on Friday evening and...  \n",
       "3  I will admit, I am not a pinterest fan. I kind...  \n",
       "4  The food here is great if you're looking for s...  "
      ]
     },
     "execution_count": 99,
     "metadata": {},
     "output_type": "execute_result"
    }
   ],
   "source": [
    "res = defaultdict(list)\n",
    "\n",
    "# take the test set\n",
    "temp_documents = documents[3000:]\n",
    "\n",
    "for i in range(len(temp_documents)):\n",
    "    pred, conf = sentiment(temp_documents[i][0])\n",
    "    res['text'].append(temp_documents[i][0])\n",
    "    res['confidence'].append(conf)\n",
    "    res['predicted'].append(pred)\n",
    "    res['actual'].append(temp_documents[i][1])\n",
    "res = pd.DataFrame(res)\n",
    "res.head()"
   ]
  },
  {
   "cell_type": "code",
   "execution_count": 102,
   "metadata": {
    "collapsed": false
   },
   "outputs": [
    {
     "name": "stdout",
     "output_type": "stream",
     "text": [
      "number of misclassifications:  69\n",
      "misclassification rate:  0.05114899925871016\n"
     ]
    },
    {
     "data": {
      "text/html": [
       "<div>\n",
       "<style scoped>\n",
       "    .dataframe tbody tr th:only-of-type {\n",
       "        vertical-align: middle;\n",
       "    }\n",
       "\n",
       "    .dataframe tbody tr th {\n",
       "        vertical-align: top;\n",
       "    }\n",
       "\n",
       "    .dataframe thead th {\n",
       "        text-align: right;\n",
       "    }\n",
       "</style>\n",
       "<table border=\"1\" class=\"dataframe\">\n",
       "  <thead>\n",
       "    <tr style=\"text-align: right;\">\n",
       "      <th></th>\n",
       "      <th>actual</th>\n",
       "      <th>confidence</th>\n",
       "      <th>predicted</th>\n",
       "      <th>text</th>\n",
       "      <th>actual_encode</th>\n",
       "    </tr>\n",
       "  </thead>\n",
       "  <tbody>\n",
       "    <tr>\n",
       "      <th>0</th>\n",
       "      <td>2.0</td>\n",
       "      <td>1.000000</td>\n",
       "      <td>pos</td>\n",
       "      <td>Large location, but when we went on weekend lu...</td>\n",
       "      <td>neg</td>\n",
       "    </tr>\n",
       "    <tr>\n",
       "      <th>1</th>\n",
       "      <td>2.0</td>\n",
       "      <td>1.000000</td>\n",
       "      <td>pos</td>\n",
       "      <td>This place is just so average... Really.  I gu...</td>\n",
       "      <td>neg</td>\n",
       "    </tr>\n",
       "    <tr>\n",
       "      <th>2</th>\n",
       "      <td>1.0</td>\n",
       "      <td>0.666667</td>\n",
       "      <td>pos</td>\n",
       "      <td>I usually hope that I never have any Starbucks...</td>\n",
       "      <td>neg</td>\n",
       "    </tr>\n",
       "    <tr>\n",
       "      <th>3</th>\n",
       "      <td>1.0</td>\n",
       "      <td>0.666667</td>\n",
       "      <td>pos</td>\n",
       "      <td>This week was my 5th visit to this dealership ...</td>\n",
       "      <td>neg</td>\n",
       "    </tr>\n",
       "    <tr>\n",
       "      <th>4</th>\n",
       "      <td>2.0</td>\n",
       "      <td>1.000000</td>\n",
       "      <td>pos</td>\n",
       "      <td>Underwhelming. steak was so-so and over priced...</td>\n",
       "      <td>neg</td>\n",
       "    </tr>\n",
       "  </tbody>\n",
       "</table>\n",
       "</div>"
      ],
      "text/plain": [
       "   actual  confidence predicted  \\\n",
       "0     2.0    1.000000       pos   \n",
       "1     2.0    1.000000       pos   \n",
       "2     1.0    0.666667       pos   \n",
       "3     1.0    0.666667       pos   \n",
       "4     2.0    1.000000       pos   \n",
       "\n",
       "                                                text actual_encode  \n",
       "0  Large location, but when we went on weekend lu...           neg  \n",
       "1  This place is just so average... Really.  I gu...           neg  \n",
       "2  I usually hope that I never have any Starbucks...           neg  \n",
       "3  This week was my 5th visit to this dealership ...           neg  \n",
       "4  Underwhelming. steak was so-so and over priced...           neg  "
      ]
     },
     "execution_count": 102,
     "metadata": {},
     "output_type": "execute_result"
    }
   ],
   "source": [
    "res['actual_encode'] = np.where((res['actual'] == 4.0) | (res['actual'] == 5.0), 'pos', 'neg')\n",
    "\n",
    "misclassified = res[res['actual_encode'] != res['predicted']]\n",
    "misclassified = misclassified[misclassified['actual']!=3]\n",
    "misclassified.index = range(len(misclassified))\n",
    "print(\"number of misclassifications: \", len(misclassified))\n",
    "print(\"misclassification rate: \", len(misclassified) / len(temp_documents))\n",
    "misclassified.head()"
   ]
  },
  {
   "cell_type": "code",
   "execution_count": 124,
   "metadata": {
    "collapsed": true
   },
   "outputs": [],
   "source": [
    "def plot_confusion_matrix(cm, classes,\n",
    "                          normalize=False,\n",
    "                          title='Confusion matrix',\n",
    "                          cmap=plt.cm.Blues):\n",
    "    \"\"\"\n",
    "    This function prints and plots the confusion matrix.\n",
    "    Normalization can be applied by setting `normalize=True`.\n",
    "    \"\"\"\n",
    "    if normalize:\n",
    "        cm = cm.astype('float') / cm.sum(axis=1)[:, np.newaxis]\n",
    "        print(\"Normalized confusion matrix\")\n",
    "    else:\n",
    "        print('Confusion matrix, without normalization')\n",
    "\n",
    "    print(cm)\n",
    "\n",
    "    plt.imshow(cm, interpolation='nearest', cmap=cmap)\n",
    "    plt.title(title)\n",
    "    plt.colorbar()\n",
    "    tick_marks = np.arange(len(classes))\n",
    "    plt.xticks(tick_marks, classes, rotation=45)\n",
    "    plt.yticks(tick_marks, classes)\n",
    "\n",
    "    fmt = '.2f' if normalize else 'd'\n",
    "    thresh = cm.max() / 2.\n",
    "    for i, j in itertools.product(range(cm.shape[0]), range(cm.shape[1])):\n",
    "        plt.text(j, i, format(cm[i, j], fmt),\n",
    "                 horizontalalignment=\"center\",\n",
    "                 color=\"white\" if cm[i, j] > thresh else \"black\")\n",
    "\n",
    "    plt.tight_layout()\n",
    "    plt.ylabel('True label')\n",
    "    plt.xlabel('Predicted label')"
   ]
  },
  {
   "cell_type": "code",
   "execution_count": 125,
   "metadata": {
    "collapsed": false
   },
   "outputs": [
    {
     "name": "stdout",
     "output_type": "stream",
     "text": [
      "Normalized confusion matrix\n",
      "[[ 0.69  0.31]\n",
      " [ 0.03  0.97]]\n"
     ]
    },
    {
     "data": {
      "image/png": "[encoded data removed]",
      "text/plain": [
       "<matplotlib.figure.Figure at 0x11e36a6d8>"
      ]
     },
     "metadata": {},
     "output_type": "display_data"
    }
   ],
   "source": [
    "y_test = res['actual_encode']\n",
    "y_pred = res['predicted']\n",
    "class_names = ['neg', 'pos']\n",
    "\n",
    "\n",
    "# Compute confusion matrix\n",
    "cnf_matrix = confusion_matrix(y_test, y_pred)\n",
    "\n",
    "# Plot normalized confusion matrix\n",
    "plt.figure()\n",
    "plot_confusion_matrix(cnf_matrix, classes=class_names, normalize=True,\n",
    "                      title='Normalized confusion matrix')\n",
    "\n",
    "plt.show()"
   ]
  },
  {
   "cell_type": "code",
   "execution_count": 130,
   "metadata": {
    "collapsed": false
   },
   "outputs": [
    {
     "name": "stdout",
     "output_type": "stream",
     "text": [
      "This place is just so average... Really.  I guess in this area it must be considered good. The food is better quality than bar food. I give them credit for that. The drinks are not as good.  I honestly have not been able to find a drink I like there. The drink selection is not good. I wish I could say it's different. \n",
      "\n",
      "Last week we carried out lunch... Yuck!  My salad was wilted an I could not eat most of it because the lettuce was bad.  For real... You have to try to mess up a salad. Fresh lettuce is the first and most important ingredient.\n",
      "\n",
      "{'like': True, 'lettuc': True, 'good': True, 'find': True, 'better': True, 'just': True, 'not': True, 'carri': True, \"it'\": True, 'consid': True, 'wa': True, 'tri': True, 'import': True, 'place': True, 'are': True, 'lunch': True, 'the': True, 'in': True, 'select': True, 'is': True, 'an': True, 'that': True, 'bar': True, 'differ': True, 'than': True, 'honestli': True, 'been': True, 'we': True, 'could': True, 'salad': True, 'week': True, 'and': True, 'it': True, 'wilt': False, 'yuck': True, 'of': True, 'for': True, 'wish': True, 'have': True, 'becaus': True, 'you': True, 'so': True, 'mess': True, 'drink': True, 'area': True, 'guess': True, 'them': True, 'real': True, 'say': True, 'i': True, 'eat': True, 'averag': True, 'fresh': True, 'credit': True, 'bad': True, 'there': True, 'thi': True, 'food': True, 'realli': True, 'my': True, 'most': True, 'as': True, 'to': True, 'qualiti': True, 'up': True, 'a': True, 'ingredi': True, 'last': True, 'give': True, 'abl': True, 'must': True, 'first': True, 'out': True, 'be': True}\n"
     ]
    }
   ],
   "source": [
    "print(misclassified.loc[1, 'text'])\n",
    "print()\n",
    "print(find_features(misclassified.loc[1, 'text']))"
   ]
  },
  {
   "cell_type": "markdown",
   "metadata": {},
   "source": [
    "Observe that most of the wrong clasifications are actually 'neg' but predicted to be 'pos'. From the sample misclassified text above, we observe things like \"not good\", \"better\", \"credit\", \"good\", \"fresh\", and a somewhat mixed feeling.."
   ]
  },
  {
   "cell_type": "code",
   "execution_count": null,
   "metadata": {
    "collapsed": true
   },
   "outputs": [],
   "source": []
  }
 ],
 "metadata": {
  "anaconda-cloud": {},
  "kernelspec": {
   "display_name": "Python [conda root]",
   "language": "python",
   "name": "conda-root-py"
  },
  "language_info": {
   "codemirror_mode": {
    "name": "ipython",
    "version": 3
   },
   "file_extension": ".py",
   "mimetype": "text/x-python",
   "name": "python",
   "nbconvert_exporter": "python",
   "pygments_lexer": "ipython3",
   "version": "3.5.2"
  }
 },
 "nbformat": 4,
 "nbformat_minor": 2
}
