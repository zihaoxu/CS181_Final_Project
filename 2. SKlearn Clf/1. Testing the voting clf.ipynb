{
 "cells": [
  {
   "cell_type": "code",
   "execution_count": 11,
   "metadata": {
    "collapsed": false
   },
   "outputs": [],
   "source": [
    "import pandas as pd\n",
    "import numpy as np\n",
    "import os\n",
    "import seaborn as sns\n",
    "import matplotlib.pyplot as plt\n",
    "import itertools\n",
    "from collections import defaultdict\n",
    "\n",
    "# Import our package!\n",
    "import sentiment_mod as s"
   ]
  },
  {
   "cell_type": "code",
   "execution_count": 26,
   "metadata": {
    "collapsed": true
   },
   "outputs": [],
   "source": [
    "parent_dir = '../Data Sets/'\n",
    "path_dic = {'R':'review_text.csv', 'I':'review_info.csv'} # 'B': 'business_s.csv', 'U':'user.csv', \n",
    "\n",
    "def read_files():\n",
    "    d = defaultdict(list)\n",
    "    for key in path_dic:\n",
    "        d[key] = pd.read_csv(parent_dir + path_dic[key]).drop('Unnamed: 0', 1)\n",
    "    return d\n",
    "def show():\n",
    "    sns.despine()\n",
    "    plt.show()\n",
    "    \n",
    "def clean_format(w):\n",
    "    w = w.lower().replace('.', '').replace(',', '').replace('!', '')\n",
    "    return w\n",
    "d = read_files()"
   ]
  },
  {
   "cell_type": "code",
   "execution_count": 27,
   "metadata": {
    "collapsed": false
   },
   "outputs": [
    {
     "name": "stdout",
     "output_type": "stream",
     "text": [
      "(4166078, 3)\n"
     ]
    }
   ],
   "source": [
    "d['R'] = d['R'].merge(d['I'], on = 'review_id', how = 'inner')\n",
    "d['R'] = d['R'][['text_stem', 'review_stars']]\n",
    "d['R'] = d['R'][d['R']['review_stars'] != 3]\n",
    "d['R']['pos'] = np.where(d['R']['review_stars']>3, 1, 0)\n",
    "d['R'].index = range(len(d['R']))\n",
    "print(d['R'].shape)"
   ]
  },
  {
   "cell_type": "markdown",
   "metadata": {},
   "source": [
    "# Testing"
   ]
  },
  {
   "cell_type": "code",
   "execution_count": 29,
   "metadata": {
    "collapsed": false
   },
   "outputs": [
    {
     "name": "stdout",
     "output_type": "stream",
     "text": [
      "Stemmed Text:\n",
      " mayb I just hit the place at the wrong time , everi time . My experi here have been veri consist . the owner sit at the end of the bar , drink and chain smoke . she talk smack on employe to other employe . talk of local gossip like who is the latest person she know in jail for whatev reason . I had to roll my eye when she start complain about the amount of bug and fli in her kitchen . A bartend advis her that they were attract to the old potato she is keep back there . So appet . I think I 'll skip the fri ... and probabl everyth els on the menu consid . the air condit could n't keep up , it wa sticki hot at the bar . I would n't have been surpris if john trafford walk in from `` bar rescu '' as I sat there . the posit : it 's conveni . see as bellevu is dri , thi place is the closest option for a beer stop on the way home . It 's sizabl . band/dj area . lot of park . unless it 's a saturday night when there are more than a hand of peopl there , thi place make you feel like someth is crawl on you . loud music , occasion fight , local , and inexperienc bartend and an owner that sit at the bar and smoke ... you decid .\n",
      "\n",
      "Star: 2.0\n",
      "Prediction:  0\n",
      "Confidence:  1.0\n"
     ]
    }
   ],
   "source": [
    "import random\n",
    "\n",
    "# Generate a random index\n",
    "index = random.randint(0, len(d['R'])) \n",
    "text = d['R'].loc[index, 'text_stem']\n",
    "star = d['R'].loc[index, 'review_stars']\n",
    "\n",
    "# Print out the review and star rating\n",
    "print(\"Stemmed Text:\\n\", text)\n",
    "print()\n",
    "print(\"Star:\", star)\n",
    "\n",
    "# Print the sentiment\n",
    "res = s.sentiment([text])\n",
    "print(\"Prediction: \", res[0])\n",
    "print(\"Confidence: \", res[1])"
   ]
  },
  {
   "cell_type": "code",
   "execution_count": 31,
   "metadata": {
    "collapsed": false
   },
   "outputs": [
    {
     "name": "stdout",
     "output_type": "stream",
     "text": [
      "Accuracy:  0.939\n"
     ]
    }
   ],
   "source": [
    "# Run the simulation 1000 times\n",
    "n_times = 1000\n",
    "predictions = []\n",
    "for _ in range(n_times):\n",
    "    index = random.randint(0, len(d['R'])) \n",
    "    text = d['R'].loc[index, 'text_stem']\n",
    "    senti = d['R'].loc[index, 'pos']\n",
    "\n",
    "    # append if the prediction is the same as the sentiment\n",
    "    res = s.sentiment([text])\n",
    "    predictions.append((senti == res[0]))\n",
    "\n",
    "print(\"Accuracy: \", sum(predictions) / n_times)"
   ]
  },
  {
   "cell_type": "code",
   "execution_count": null,
   "metadata": {
    "collapsed": true
   },
   "outputs": [],
   "source": []
  },
  {
   "cell_type": "code",
   "execution_count": null,
   "metadata": {
    "collapsed": true
   },
   "outputs": [],
   "source": []
  }
 ],
 "metadata": {
  "anaconda-cloud": {},
  "kernelspec": {
   "display_name": "Python 3",
   "language": "python",
   "name": "python3"
  },
  "language_info": {
   "codemirror_mode": {
    "name": "ipython",
    "version": 3
   },
   "file_extension": ".py",
   "mimetype": "text/x-python",
   "name": "python",
   "nbconvert_exporter": "python",
   "pygments_lexer": "ipython3",
   "version": "3.5.2"
  }
 },
 "nbformat": 4,
 "nbformat_minor": 2
}
