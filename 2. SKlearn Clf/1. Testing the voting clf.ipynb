{
 "cells": [
  {
   "cell_type": "code",
   "execution_count": 1,
   "metadata": {
    "collapsed": false
   },
   "outputs": [
    {
     "name": "stderr",
     "output_type": "stream",
     "text": [
      "/Users/zihaoxu/anaconda/lib/python3.5/site-packages/sklearn/cross_validation.py:41: DeprecationWarning: This module was deprecated in version 0.18 in favor of the model_selection module into which all the refactored classes and functions are moved. Also note that the interface of the new CV iterators are different from that of this module. This module will be removed in 0.20.\n",
      "  \"This module will be removed in 0.20.\", DeprecationWarning)\n"
     ]
    }
   ],
   "source": [
    "import pandas as pd\n",
    "import numpy as np\n",
    "import os\n",
    "import seaborn as sns\n",
    "import matplotlib.pyplot as plt\n",
    "import itertools\n",
    "from collections import defaultdict\n",
    "\n",
    "# Import our package!\n",
    "import sentiment_mod as s"
   ]
  },
  {
   "cell_type": "code",
   "execution_count": 2,
   "metadata": {
    "collapsed": true
   },
   "outputs": [],
   "source": [
    "parent_dir = '../Data Sets/'\n",
    "path_dic = {'R':'review_text.csv', 'I':'review_info.csv'} # 'B': 'business_s.csv', 'U':'user.csv', \n",
    "\n",
    "def read_files():\n",
    "    d = defaultdict(list)\n",
    "    for key in path_dic:\n",
    "        d[key] = pd.read_csv(parent_dir + path_dic[key]).drop('Unnamed: 0', 1)\n",
    "    return d\n",
    "def show():\n",
    "    sns.despine()\n",
    "    plt.show()\n",
    "    \n",
    "def clean_format(w):\n",
    "    w = w.lower().replace('.', '').replace(',', '').replace('!', '')\n",
    "    return w\n",
    "d = read_files()"
   ]
  },
  {
   "cell_type": "code",
   "execution_count": 3,
   "metadata": {
    "collapsed": false
   },
   "outputs": [
    {
     "name": "stdout",
     "output_type": "stream",
     "text": [
      "(4166078, 3)\n"
     ]
    }
   ],
   "source": [
    "d['R'] = d['R'].merge(d['I'], on = 'review_id', how = 'inner')\n",
    "d['R'] = d['R'][['text_stem', 'review_stars']]\n",
    "d['R'] = d['R'][d['R']['review_stars'] != 3]\n",
    "d['R']['pos'] = np.where(d['R']['review_stars']>3, 1, 0)\n",
    "d['R'].index = range(len(d['R']))\n",
    "print(d['R'].shape)"
   ]
  },
  {
   "cell_type": "code",
   "execution_count": 12,
   "metadata": {
    "collapsed": false
   },
   "outputs": [
    {
     "data": {
      "text/html": [
       "<div>\n",
       "<style scoped>\n",
       "    .dataframe tbody tr th:only-of-type {\n",
       "        vertical-align: middle;\n",
       "    }\n",
       "\n",
       "    .dataframe tbody tr th {\n",
       "        vertical-align: top;\n",
       "    }\n",
       "\n",
       "    .dataframe thead th {\n",
       "        text-align: right;\n",
       "    }\n",
       "</style>\n",
       "<table border=\"1\" class=\"dataframe\">\n",
       "  <thead>\n",
       "    <tr style=\"text-align: right;\">\n",
       "      <th></th>\n",
       "      <th>text_stem</th>\n",
       "      <th>review_stars</th>\n",
       "      <th>pos</th>\n",
       "    </tr>\n",
       "  </thead>\n",
       "  <tbody>\n",
       "    <tr>\n",
       "      <th>0</th>\n",
       "      <td>My girlfriend and I stay here for 3 night and ...</td>\n",
       "      <td>5.0</td>\n",
       "      <td>1</td>\n",
       "    </tr>\n",
       "    <tr>\n",
       "      <th>1</th>\n",
       "      <td>locat is everyth and thi hotel ha it ! the rec...</td>\n",
       "      <td>4.0</td>\n",
       "      <td>1</td>\n",
       "    </tr>\n",
       "    <tr>\n",
       "      <th>2</th>\n",
       "      <td>gute lage im stadtzentrum . shoppingmeil und s...</td>\n",
       "      <td>5.0</td>\n",
       "      <td>1</td>\n",
       "    </tr>\n",
       "  </tbody>\n",
       "</table>\n",
       "</div>"
      ],
      "text/plain": [
       "                                           text_stem  review_stars  pos\n",
       "0  My girlfriend and I stay here for 3 night and ...           5.0    1\n",
       "1  locat is everyth and thi hotel ha it ! the rec...           4.0    1\n",
       "2  gute lage im stadtzentrum . shoppingmeil und s...           5.0    1"
      ]
     },
     "execution_count": 12,
     "metadata": {},
     "output_type": "execute_result"
    }
   ],
   "source": [
    "d['R'].head(3)"
   ]
  },
  {
   "cell_type": "markdown",
   "metadata": {},
   "source": [
    "# Testing"
   ]
  },
  {
   "cell_type": "code",
   "execution_count": 16,
   "metadata": {
    "collapsed": false
   },
   "outputs": [
    {
     "name": "stdout",
     "output_type": "stream",
     "text": [
      "Star: 4.0\n",
      "\n",
      "Stemmed Text:\n",
      " either lolo you choos , you 're go to end up with some of the best fri chicken in town and some pretti damn amaz waffl too . servic is quick . waffl are insan . portion are huge . chicken is great . cheese-egg are a godsend . and the kool-aid is entir opaqu . terrifyingli so . likewis , avoid the sweet tea if you 're diabet , or ask them to cut it half-n-half with the regular tea becaus damn is it sweet . If you 're in the phoenix locat , you may have thi sneak suspicion that you 'll come out to find your car up on block , but I 've never had ani troubl and if it 's that much of a concern to you , the scottsdal locat is all nice and pretti . four star onli becaus the chicken ha been a bit skin/batter-heavi and in a way that ha n't been amaz the last coupl of time I 've gone . when all 's said and done though , you ca n't beat the combo . Do yourself a huge favor and order less than your starv self think you need . the waffl will fill you up quicker than you can imagin and the syrup ( while not of the mapl varieti ) just tack it on . nice folk , great food , fun time .\n"
     ]
    }
   ],
   "source": [
    "import random\n",
    "\n",
    "# Generate a random index\n",
    "index = random.randint(0, len(d['R'])) \n",
    "text = d['R'].loc[index, 'text_stem']\n",
    "star = d['R'].loc[index, 'review_stars']\n",
    "\n",
    "# Print out the review and star rating\n",
    "print(\"Star:\", star)\n",
    "print()\n",
    "print(\"Stemmed Text:\\n\", text)"
   ]
  },
  {
   "cell_type": "code",
   "execution_count": 17,
   "metadata": {
    "collapsed": false
   },
   "outputs": [
    {
     "name": "stdout",
     "output_type": "stream",
     "text": [
      "Prediction:  1\n",
      "Confidence:  1.0\n"
     ]
    }
   ],
   "source": [
    "# Print the sentiment\n",
    "res = s.sentiment([text])\n",
    "print(\"Prediction: \", res[0])\n",
    "print(\"Confidence: \", res[1])"
   ]
  },
  {
   "cell_type": "code",
   "execution_count": 18,
   "metadata": {
    "collapsed": false
   },
   "outputs": [
    {
     "name": "stdout",
     "output_type": "stream",
     "text": [
      "Accuracy:  0.947\n"
     ]
    }
   ],
   "source": [
    "# Run the simulation 1000 times\n",
    "n_times = 1000\n",
    "predictions = []\n",
    "for _ in range(n_times):\n",
    "    index = random.randint(0, len(d['R'])) \n",
    "    text = d['R'].loc[index, 'text_stem']\n",
    "    senti = d['R'].loc[index, 'pos']\n",
    "\n",
    "    # append if the prediction is the same as the sentiment\n",
    "    res = s.sentiment([text])\n",
    "    predictions.append((senti == res[0]))\n",
    "\n",
    "print(\"Accuracy: \", sum(predictions) / n_times)"
   ]
  },
  {
   "cell_type": "code",
   "execution_count": null,
   "metadata": {
    "collapsed": true
   },
   "outputs": [],
   "source": []
  },
  {
   "cell_type": "code",
   "execution_count": null,
   "metadata": {
    "collapsed": true
   },
   "outputs": [],
   "source": []
  }
 ],
 "metadata": {
  "anaconda-cloud": {},
  "kernelspec": {
   "display_name": "Python 3",
   "language": "python",
   "name": "python3"
  },
  "language_info": {
   "codemirror_mode": {
    "name": "ipython",
    "version": 3
   },
   "file_extension": ".py",
   "mimetype": "text/x-python",
   "name": "python",
   "nbconvert_exporter": "python",
   "pygments_lexer": "ipython3",
   "version": "3.5.2"
  }
 },
 "nbformat": 4,
 "nbformat_minor": 2
}
