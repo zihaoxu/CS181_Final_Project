{
 "cells": [
  {
   "cell_type": "code",
   "execution_count": 54,
   "metadata": {
    "collapsed": true
   },
   "outputs": [],
   "source": [
    "import pandas as pd\n",
    "import numpy as np\n",
    "import os\n",
    "import seaborn as sns\n",
    "import matplotlib.pyplot as plt\n",
    "import itertools\n",
    "\n",
    "from collections import defaultdict"
   ]
  },
  {
   "cell_type": "code",
   "execution_count": 55,
   "metadata": {
    "collapsed": true
   },
   "outputs": [],
   "source": [
    "import nltk\n",
    "import random\n",
    "#from nltk.corpus import movie_reviews\n",
    "from nltk.classify.scikitlearn import SklearnClassifier\n",
    "import pickle\n",
    "from sklearn.naive_bayes import MultinomialNB, BernoulliNB\n",
    "from sklearn.linear_model import LogisticRegression, SGDClassifier\n",
    "from sklearn.svm import SVC, LinearSVC, NuSVC\n",
    "from nltk.classify import ClassifierI\n",
    "from statistics import mode\n",
    "from nltk.tokenize import word_tokenize\n",
    "from nltk.stem import PorterStemmer\n",
    "from nltk.tokenize import sent_tokenize, word_tokenize\n",
    "from sklearn.feature_extraction.text import TfidfVectorizer\n",
    "from sklearn.metrics import confusion_matrix, roc_auc_score\n",
    "from sklearn.feature_extraction.text import CountVectorizer"
   ]
  },
  {
   "cell_type": "code",
   "execution_count": 104,
   "metadata": {
    "collapsed": true
   },
   "outputs": [],
   "source": [
    "def read_files():\n",
    "    d = defaultdict(list)\n",
    "\n",
    "    parent_dir = '../Data Sets/'\n",
    "\n",
    "    path_dic = {'B': 'business_s.csv', 'R':'review_m.csv'}\n",
    "#                ,'C':'checkin.csv', 'T':'tip.csv', 'U':'user.csv'}\n",
    "\n",
    "    for key in path_dic:\n",
    "        d[key] = pd.read_csv(parent_dir + path_dic[key]).drop('Unnamed: 0', 1)\n",
    "    return d\n",
    "def show():\n",
    "    sns.despine()\n",
    "    plt.show()\n",
    "    \n",
    "def clean_format(w):\n",
    "    w = w.lower().replace('.', '').replace(',', '').replace('!', '')\n",
    "    #.replace('+', '').replace('(', '').replace(')', '')\n",
    "    return w"
   ]
  },
  {
   "cell_type": "code",
   "execution_count": 105,
   "metadata": {
    "collapsed": false
   },
   "outputs": [],
   "source": [
    "# np.random.seed(47)\n",
    "# parent_dir = '../Data Sets/'\n",
    "# temp = d['R'].sample(frac = 0.1, replace = False)\n",
    "# temp.shape\n",
    "# temp.to_csv(parent_dir + 'review_m.csv')"
   ]
  },
  {
   "cell_type": "code",
   "execution_count": 106,
   "metadata": {
    "collapsed": false
   },
   "outputs": [
    {
     "name": "stderr",
     "output_type": "stream",
     "text": [
      "/Users/zihaoxu/anaconda/lib/python3.5/site-packages/IPython/core/interactiveshell.py:2821: DtypeWarning: Columns (2) have mixed types. Specify dtype option on import or set low_memory=False.\n",
      "  if self.run_code(code, result):\n"
     ]
    }
   ],
   "source": [
    "d = read_files()"
   ]
  },
  {
   "cell_type": "code",
   "execution_count": 107,
   "metadata": {
    "collapsed": false
   },
   "outputs": [
    {
     "data": {
      "text/plain": [
       "(437631, 25)"
      ]
     },
     "execution_count": 107,
     "metadata": {},
     "output_type": "execute_result"
    }
   ],
   "source": [
    "d['RB'] = d['R'].merge(d['B'], on = 'business_id', how = 'inner')\n",
    "d['RB'] = d['RB'].dropna(subset = ['is_open'])\n",
    "d['RB'].rename(columns = {'stars_x' : 'review_star', 'stars_y':'buz_star'}, inplace = True)\n",
    "d['RB'].shape"
   ]
  },
  {
   "cell_type": "code",
   "execution_count": 108,
   "metadata": {
    "collapsed": false
   },
   "outputs": [
    {
     "name": "stdout",
     "output_type": "stream",
     "text": [
      "['business_id', 'cool', 'date', 'funny', 'review_id', 'review_star', 'text', 'useful', 'user_id', 'address', 'attributes', 'categories', 'city', 'hours', 'is_open', 'latitude', 'longitude', 'name', 'neighborhood', 'postal_code', 'review_count', 'buz_star', 'state', 'price', 'credit_card']\n"
     ]
    }
   ],
   "source": [
    "print(list(d['RB']))"
   ]
  },
  {
   "cell_type": "markdown",
   "metadata": {},
   "source": [
    "# Data preparation"
   ]
  },
  {
   "cell_type": "code",
   "execution_count": 111,
   "metadata": {
    "collapsed": false
   },
   "outputs": [
    {
     "data": {
      "text/plain": [
       "(437631, 25)"
      ]
     },
     "execution_count": 111,
     "metadata": {},
     "output_type": "execute_result"
    }
   ],
   "source": [
    "df = d['RB']\n",
    "df.shape"
   ]
  },
  {
   "cell_type": "code",
   "execution_count": 112,
   "metadata": {
    "collapsed": true
   },
   "outputs": [
    {
     "ename": "KeyboardInterrupt",
     "evalue": "",
     "output_type": "error",
     "traceback": [
      "\u001b[0;31m---------------------------------------------------------------------------\u001b[0m",
      "\u001b[0;31mKeyboardInterrupt\u001b[0m                         Traceback (most recent call last)",
      "\u001b[0;32m<ipython-input-112-d5b2077376ec>\u001b[0m in \u001b[0;36m<module>\u001b[0;34m()\u001b[0m\n\u001b[1;32m      3\u001b[0m \u001b[0;34m\u001b[0m\u001b[0m\n\u001b[1;32m      4\u001b[0m \u001b[0mdf\u001b[0m\u001b[0;34m.\u001b[0m\u001b[0mindex\u001b[0m \u001b[0;34m=\u001b[0m \u001b[0mrange\u001b[0m\u001b[0;34m(\u001b[0m\u001b[0mlen\u001b[0m\u001b[0;34m(\u001b[0m\u001b[0mdf\u001b[0m\u001b[0;34m)\u001b[0m\u001b[0;34m)\u001b[0m\u001b[0;34m\u001b[0m\u001b[0m\n\u001b[0;32m----> 5\u001b[0;31m \u001b[0mdf\u001b[0m\u001b[0;34m[\u001b[0m\u001b[0;34m'text'\u001b[0m\u001b[0;34m]\u001b[0m \u001b[0;34m=\u001b[0m \u001b[0;34m[\u001b[0m\u001b[0;34m' '\u001b[0m\u001b[0;34m.\u001b[0m\u001b[0mjoin\u001b[0m\u001b[0;34m(\u001b[0m\u001b[0;34m[\u001b[0m\u001b[0mps\u001b[0m\u001b[0;34m.\u001b[0m\u001b[0mstem\u001b[0m\u001b[0;34m(\u001b[0m\u001b[0mw\u001b[0m\u001b[0;34m)\u001b[0m \u001b[0;32mfor\u001b[0m \u001b[0mw\u001b[0m \u001b[0;32min\u001b[0m \u001b[0mdf\u001b[0m\u001b[0;34m[\u001b[0m\u001b[0;34m'text'\u001b[0m\u001b[0;34m]\u001b[0m\u001b[0;34m[\u001b[0m\u001b[0mi\u001b[0m\u001b[0;34m]\u001b[0m\u001b[0;34m.\u001b[0m\u001b[0msplit\u001b[0m\u001b[0;34m(\u001b[0m\u001b[0;34m)\u001b[0m\u001b[0;34m]\u001b[0m\u001b[0;34m)\u001b[0m \u001b[0;32mfor\u001b[0m \u001b[0mi\u001b[0m \u001b[0;32min\u001b[0m \u001b[0mrange\u001b[0m\u001b[0;34m(\u001b[0m\u001b[0mlen\u001b[0m\u001b[0;34m(\u001b[0m\u001b[0mdf\u001b[0m\u001b[0;34m[\u001b[0m\u001b[0;34m'text'\u001b[0m\u001b[0;34m]\u001b[0m\u001b[0;34m)\u001b[0m\u001b[0;34m)\u001b[0m\u001b[0;34m]\u001b[0m\u001b[0;34m\u001b[0m\u001b[0m\n\u001b[0m",
      "\u001b[0;32m<ipython-input-112-d5b2077376ec>\u001b[0m in \u001b[0;36m<listcomp>\u001b[0;34m(.0)\u001b[0m\n\u001b[1;32m      3\u001b[0m \u001b[0;34m\u001b[0m\u001b[0m\n\u001b[1;32m      4\u001b[0m \u001b[0mdf\u001b[0m\u001b[0;34m.\u001b[0m\u001b[0mindex\u001b[0m \u001b[0;34m=\u001b[0m \u001b[0mrange\u001b[0m\u001b[0;34m(\u001b[0m\u001b[0mlen\u001b[0m\u001b[0;34m(\u001b[0m\u001b[0mdf\u001b[0m\u001b[0;34m)\u001b[0m\u001b[0;34m)\u001b[0m\u001b[0;34m\u001b[0m\u001b[0m\n\u001b[0;32m----> 5\u001b[0;31m \u001b[0mdf\u001b[0m\u001b[0;34m[\u001b[0m\u001b[0;34m'text'\u001b[0m\u001b[0;34m]\u001b[0m \u001b[0;34m=\u001b[0m \u001b[0;34m[\u001b[0m\u001b[0;34m' '\u001b[0m\u001b[0;34m.\u001b[0m\u001b[0mjoin\u001b[0m\u001b[0;34m(\u001b[0m\u001b[0;34m[\u001b[0m\u001b[0mps\u001b[0m\u001b[0;34m.\u001b[0m\u001b[0mstem\u001b[0m\u001b[0;34m(\u001b[0m\u001b[0mw\u001b[0m\u001b[0;34m)\u001b[0m \u001b[0;32mfor\u001b[0m \u001b[0mw\u001b[0m \u001b[0;32min\u001b[0m \u001b[0mdf\u001b[0m\u001b[0;34m[\u001b[0m\u001b[0;34m'text'\u001b[0m\u001b[0;34m]\u001b[0m\u001b[0;34m[\u001b[0m\u001b[0mi\u001b[0m\u001b[0;34m]\u001b[0m\u001b[0;34m.\u001b[0m\u001b[0msplit\u001b[0m\u001b[0;34m(\u001b[0m\u001b[0;34m)\u001b[0m\u001b[0;34m]\u001b[0m\u001b[0;34m)\u001b[0m \u001b[0;32mfor\u001b[0m \u001b[0mi\u001b[0m \u001b[0;32min\u001b[0m \u001b[0mrange\u001b[0m\u001b[0;34m(\u001b[0m\u001b[0mlen\u001b[0m\u001b[0;34m(\u001b[0m\u001b[0mdf\u001b[0m\u001b[0;34m[\u001b[0m\u001b[0;34m'text'\u001b[0m\u001b[0;34m]\u001b[0m\u001b[0;34m)\u001b[0m\u001b[0;34m)\u001b[0m\u001b[0;34m]\u001b[0m\u001b[0;34m\u001b[0m\u001b[0m\n\u001b[0m",
      "\u001b[0;32m<ipython-input-112-d5b2077376ec>\u001b[0m in \u001b[0;36m<listcomp>\u001b[0;34m(.0)\u001b[0m\n\u001b[1;32m      3\u001b[0m \u001b[0;34m\u001b[0m\u001b[0m\n\u001b[1;32m      4\u001b[0m \u001b[0mdf\u001b[0m\u001b[0;34m.\u001b[0m\u001b[0mindex\u001b[0m \u001b[0;34m=\u001b[0m \u001b[0mrange\u001b[0m\u001b[0;34m(\u001b[0m\u001b[0mlen\u001b[0m\u001b[0;34m(\u001b[0m\u001b[0mdf\u001b[0m\u001b[0;34m)\u001b[0m\u001b[0;34m)\u001b[0m\u001b[0;34m\u001b[0m\u001b[0m\n\u001b[0;32m----> 5\u001b[0;31m \u001b[0mdf\u001b[0m\u001b[0;34m[\u001b[0m\u001b[0;34m'text'\u001b[0m\u001b[0;34m]\u001b[0m \u001b[0;34m=\u001b[0m \u001b[0;34m[\u001b[0m\u001b[0;34m' '\u001b[0m\u001b[0;34m.\u001b[0m\u001b[0mjoin\u001b[0m\u001b[0;34m(\u001b[0m\u001b[0;34m[\u001b[0m\u001b[0mps\u001b[0m\u001b[0;34m.\u001b[0m\u001b[0mstem\u001b[0m\u001b[0;34m(\u001b[0m\u001b[0mw\u001b[0m\u001b[0;34m)\u001b[0m \u001b[0;32mfor\u001b[0m \u001b[0mw\u001b[0m \u001b[0;32min\u001b[0m \u001b[0mdf\u001b[0m\u001b[0;34m[\u001b[0m\u001b[0;34m'text'\u001b[0m\u001b[0;34m]\u001b[0m\u001b[0;34m[\u001b[0m\u001b[0mi\u001b[0m\u001b[0;34m]\u001b[0m\u001b[0;34m.\u001b[0m\u001b[0msplit\u001b[0m\u001b[0;34m(\u001b[0m\u001b[0;34m)\u001b[0m\u001b[0;34m]\u001b[0m\u001b[0;34m)\u001b[0m \u001b[0;32mfor\u001b[0m \u001b[0mi\u001b[0m \u001b[0;32min\u001b[0m \u001b[0mrange\u001b[0m\u001b[0;34m(\u001b[0m\u001b[0mlen\u001b[0m\u001b[0;34m(\u001b[0m\u001b[0mdf\u001b[0m\u001b[0;34m[\u001b[0m\u001b[0;34m'text'\u001b[0m\u001b[0;34m]\u001b[0m\u001b[0;34m)\u001b[0m\u001b[0;34m)\u001b[0m\u001b[0;34m]\u001b[0m\u001b[0;34m\u001b[0m\u001b[0m\n\u001b[0m",
      "\u001b[0;32m/Users/zihaoxu/anaconda/lib/python3.5/site-packages/nltk/stem/porter.py\u001b[0m in \u001b[0;36mstem\u001b[0;34m(self, word)\u001b[0m\n\u001b[1;32m    630\u001b[0m         \u001b[0;32mif\u001b[0m \u001b[0mword\u001b[0m\u001b[0;34m.\u001b[0m\u001b[0mendswith\u001b[0m\u001b[0;34m(\u001b[0m\u001b[0;34m'e'\u001b[0m\u001b[0;34m)\u001b[0m\u001b[0;34m:\u001b[0m\u001b[0;34m\u001b[0m\u001b[0m\n\u001b[1;32m    631\u001b[0m             \u001b[0mstem\u001b[0m \u001b[0;34m=\u001b[0m \u001b[0mself\u001b[0m\u001b[0;34m.\u001b[0m\u001b[0m_replace_suffix\u001b[0m\u001b[0;34m(\u001b[0m\u001b[0mword\u001b[0m\u001b[0;34m,\u001b[0m \u001b[0;34m'e'\u001b[0m\u001b[0;34m,\u001b[0m \u001b[0;34m''\u001b[0m\u001b[0;34m)\u001b[0m\u001b[0;34m\u001b[0m\u001b[0m\n\u001b[0;32m--> 632\u001b[0;31m             \u001b[0;32mif\u001b[0m \u001b[0mself\u001b[0m\u001b[0;34m.\u001b[0m\u001b[0m_measure\u001b[0m\u001b[0;34m(\u001b[0m\u001b[0mstem\u001b[0m\u001b[0;34m)\u001b[0m \u001b[0;34m>\u001b[0m \u001b[0;36m1\u001b[0m\u001b[0;34m:\u001b[0m\u001b[0;34m\u001b[0m\u001b[0m\n\u001b[0m\u001b[1;32m    633\u001b[0m                 \u001b[0;32mreturn\u001b[0m \u001b[0mstem\u001b[0m\u001b[0;34m\u001b[0m\u001b[0m\n\u001b[1;32m    634\u001b[0m             \u001b[0;32mif\u001b[0m \u001b[0mself\u001b[0m\u001b[0;34m.\u001b[0m\u001b[0m_measure\u001b[0m\u001b[0;34m(\u001b[0m\u001b[0mstem\u001b[0m\u001b[0;34m)\u001b[0m \u001b[0;34m==\u001b[0m \u001b[0;36m1\u001b[0m \u001b[0;32mand\u001b[0m \u001b[0;32mnot\u001b[0m \u001b[0mself\u001b[0m\u001b[0;34m.\u001b[0m\u001b[0m_ends_cvc\u001b[0m\u001b[0;34m(\u001b[0m\u001b[0mstem\u001b[0m\u001b[0;34m)\u001b[0m\u001b[0;34m:\u001b[0m\u001b[0;34m\u001b[0m\u001b[0m\n",
      "\u001b[0;31mKeyboardInterrupt\u001b[0m: "
     ]
    }
   ],
   "source": [
    "# Stem all the words in reviews\n",
    "ps = PorterStemmer()\n",
    "\n",
    "df.index = range(len(df))\n",
    "df['text'] = [' '.join([ps.stem(w) for w in df['text'][i].split()]) for i in range(len(df['text']))]"
   ]
  },
  {
   "cell_type": "code",
   "execution_count": 114,
   "metadata": {
    "collapsed": false
   },
   "outputs": [],
   "source": [
    "from sklearn.cross_validation import train_test_split\n",
    "\n",
    "X_train, X_test, y_train, y_test = train_test_split(df['text'], df['state'], train_size = .8, random_state = 47)"
   ]
  },
  {
   "cell_type": "markdown",
   "metadata": {},
   "source": [
    "# NMF and LDA"
   ]
  },
  {
   "cell_type": "code",
   "execution_count": 115,
   "metadata": {
    "collapsed": true
   },
   "outputs": [],
   "source": [
    "from __future__ import print_function\n",
    "from time import time\n",
    "\n",
    "from sklearn.feature_extraction.text import TfidfVectorizer, CountVectorizer\n",
    "from sklearn.decomposition import NMF, LatentDirichletAllocation"
   ]
  },
  {
   "cell_type": "code",
   "execution_count": 116,
   "metadata": {
    "collapsed": true
   },
   "outputs": [],
   "source": [
    "# Deafult values and helper function to print the topics\n",
    "n_features = 5000\n",
    "n_components = 10\n",
    "n_top = 15\n",
    "\n",
    "def print_top_words(model, feature_names, n_top):\n",
    "    for topic_ind, topic in enumerate(model.components_):\n",
    "        message = \"Topic %d: \" % topic_ind\n",
    "        message += \" \".join([feature_names[i]\n",
    "                             for i in topic.argsort()[:-n_top - 1:-1]])\n",
    "        print(message)\n",
    "    print()"
   ]
  },
  {
   "cell_type": "code",
   "execution_count": 117,
   "metadata": {
    "collapsed": false
   },
   "outputs": [
    {
     "name": "stdout",
     "output_type": "stream",
     "text": [
      "TF extracted in 109.040s\n",
      "TFIDF extracted in 130.580s\n"
     ]
    }
   ],
   "source": [
    "# Extract TF for LDA:\n",
    "t0 = time()\n",
    "count_vect = CountVectorizer(max_df = .95, min_df = 3, ngram_range = (1,2), \\\n",
    "                             max_features = n_features, stop_words = 'english')\n",
    "tf = count_vect.fit_transform(X_train)\n",
    "print(\"TF extracted in %0.3fs\" % (time() - t0))\n",
    "\n",
    "# Extract TF-IDF for NMF:\n",
    "t0 = time()\n",
    "tfidf_vect = TfidfVectorizer(max_df = .95, min_df = 3, ngram_range = (1,2), \\\n",
    "                             max_features = n_features, stop_words = 'english')\n",
    "tfidf = tfidf_vect.fit_transform(X_train)\n",
    "print(\"TFIDF extracted in %0.3fs\" % (time() - t0))"
   ]
  },
  {
   "cell_type": "markdown",
   "metadata": {},
   "source": [
    "## Fitting the NMF & LDA models"
   ]
  },
  {
   "cell_type": "code",
   "execution_count": 119,
   "metadata": {
    "collapsed": false
   },
   "outputs": [
    {
     "name": "stdout",
     "output_type": "stream",
     "text": [
      "done in 157.999\n",
      "\n",
      "Topics from NMF model: \n",
      "Topic 0: good pretty food good pretty good good food good service service good really good service good place place prices price place good overall\n",
      "Topic 1: like just don car know store work people new make time day going need way\n",
      "Topic 2: great great service great food food great service great great place service atmosphere place great great atmosphere great experience awesome great job prices time\n",
      "Topic 3: pizza crust cheese wings pizzas toppings best pizza pepperoni sauce slice pizza place delivery good pizza pizza good great pizza\n",
      "Topic 4: ice cream ice cream chocolate coffee tea flavors dessert cake cookies vanilla cone cookie sweet waffle\n",
      "Topic 5: service customer customer service great customer excellent horrible service great excellent customer rude great service worst excellent service manager poor thank\n",
      "Topic 6: burger fries burgers cheese bun bacon onion rings onion rings burger fries shake sweet potato patty potato potato fries\n",
      "Topic 7: delicious ordered menu salad cheese restaurant sauce try sandwich fresh meal lunch bread meat steak\n",
      "Topic 8: sushi rolls roll fish fresh sashimi ayce sushi place tuna eat salmon quality rice best sushi japanese\n",
      "Topic 9: recommend highly highly recommend recommend place professional amazing definitely recommend dr work definitely recommended highly recommended excellent job company\n",
      "Topic 10: minutes order time came wait got said took asked told table didn went 10 waited\n",
      "Topic 11: love place love place love love great place amazing favorite awesome place great absolutely love coffee recommend place absolutely try come\n",
      "Topic 12: chicken rice fried thai curry fried rice fried chicken spicy sauce pad soup beef pad thai ordered wings\n",
      "Topic 13: food restaurant service mexican great food food good quality food service fast food great good food eat mexican food chinese better\n",
      "Topic 14: staff friendly staff friendly friendly staff helpful clean super super friendly nice friendly helpful dr location staff super friendly service coffee\n",
      "Topic 15: best ve vegas amazing las las vegas town far time best ve years times hands far best favorite\n",
      "Topic 16: room hotel stay rooms vegas pool strip nice stayed casino clean night bed desk floor\n",
      "Topic 17: hair salon cut job did color stylist nails hair cut haircut nail great job appointment amazing wanted\n",
      "Topic 18: bar beer happy drinks happy hour hour night drink selection fun music bartender beers wine patio\n",
      "Topic 19: really really good nice really nice really enjoyed like really like food really enjoyed really great really really place really liked place really liked\n",
      "\n"
     ]
    }
   ],
   "source": [
    "# Fit the NMF model\n",
    "t0 = time()\n",
    "nmf = NMF(n_components = 20, random_state = 47, alpha = .1, l1_ratio = .5).fit(tfidf)\n",
    "print(\"done in %0.3f\" % (time() - t0))\n",
    "print(\"\\nTopics from NMF model: \")\n",
    "tfidf_feature_names = tfidf_vect.get_feature_names()\n",
    "print_top_words(nmf, tfidf_feature_names, n_top)"
   ]
  },
  {
   "cell_type": "code",
   "execution_count": 120,
   "metadata": {
    "collapsed": false
   },
   "outputs": [
    {
     "name": "stdout",
     "output_type": "stream",
     "text": [
      "done in 787.078s.\n",
      "Topic 0: place great love staff friendly amazing definitely awesome favorite great place recommend love place best sandwiches absolutely\n",
      "Topic 1: cream ice tea chocolate ice cream cake sweet try delicious flavors like milk love dessert taste\n",
      "Topic 2: like don just place know really want think good people easy way thing price better\n",
      "Topic 3: chicken sauce ordered rice fried like good beef pork food soup spicy flavor meat salad\n",
      "Topic 4: feel hair did job taking like appointment feel like amazing cut salon nails massage happy clean\n",
      "Topic 5: ve time years make staff sure times care going dr family year make sure ago office\n",
      "Topic 6: bar place nice area selection good staff location drinks friendly drink like great local little\n",
      "Topic 7: best vegas ve las las vegas italian bartender far strip amazing town favorite eaten cocktails orange\n",
      "Topic 8: food great service pizza good atmosphere friendly amazing great service delicious great food service great nice food great place\n",
      "Topic 9: said minutes time service asked told didn got just customer order went came did took\n",
      "Topic 10: really great time got nice super didn did experience wanted new try went definitely little\n",
      "Topic 11: recommend happy excellent highly beer highly recommend hour great service happy hour beers team selection awesome definitely\n",
      "Topic 12: good really food place lunch fresh fish ve pretty really good menu fast eat wings try\n",
      "Topic 13: coffee breakfast eggs brunch toast morning cafe cup saturday pancakes bacon french hidden road egg\n",
      "Topic 14: dinner restaurant salad menu meal wine steak ordered cheese server delicious table bread dessert dining\n",
      "Topic 15: burger fries sandwich cheese dog burgers bread bacon good miss dogs got hot just meat\n",
      "Topic 16: night time great fun pool kids music club old son play wife really went money\n",
      "Topic 17: food good service sushi restaurant table wait place waitress pretty ordered came order time server\n",
      "Topic 18: room hotel stay parking clean nice free line strip rooms casino area park check stayed\n",
      "Topic 19: car store service company work new home price called shop day use business buy house\n",
      "\n"
     ]
    }
   ],
   "source": [
    "# Fit the LDA model\n",
    "t0 = time()\n",
    "lda = LatentDirichletAllocation(n_topics = 20, max_iter=5,\n",
    "                                learning_method='online',\n",
    "                                learning_offset=50.,\n",
    "                                random_state=47).fit(tf)\n",
    "print(\"done in %0.3fs.\" % (time() - t0))\n",
    "print_top_words(lda, tfidf_feature_names, n_top)"
   ]
  },
  {
   "cell_type": "code",
   "execution_count": 121,
   "metadata": {
    "collapsed": false
   },
   "outputs": [],
   "source": [
    "# lda.__dict__\n",
    "# import inspect\n",
    "# inspect.getmembers(lda, predicate=inspect.ismethod)\n",
    "\n",
    "\n",
    "save_model = open(\"pickled_algos/lda.pickle\",\"wb\")\n",
    "pickle.dump(lda, save_model)\n",
    "save_model.close()\n",
    "\n",
    "save_model = open(\"pickled_algos/nmf.pickle\",\"wb\")\n",
    "pickle.dump(nmf, save_model)\n",
    "save_model.close()"
   ]
  },
  {
   "cell_type": "code",
   "execution_count": 94,
   "metadata": {
    "collapsed": false
   },
   "outputs": [
    {
     "data": {
      "text/plain": [
       "-178950.47513472088"
      ]
     },
     "execution_count": 94,
     "metadata": {},
     "output_type": "execute_result"
    }
   ],
   "source": [
    "lda.score(tfidf_vect.fit_transform(X_train))"
   ]
  },
  {
   "cell_type": "code",
   "execution_count": 131,
   "metadata": {
    "collapsed": false,
    "scrolled": false
   },
   "outputs": [
    {
     "name": "stdout",
     "output_type": "stream",
     "text": [
      "Features of Topic 0:\n",
      "good pretty food good pretty good good food good service service good really good service good place place prices price place good overall\n",
      "\n",
      "doc_index:  243835\n",
      "Its like walking into a Sopranos set.All those gangsta types.Never mind the pizza is great.Lot of gambling there though. The food is good,just the patrons creep me out.\n",
      "I never eat in that area but when I do its Nini Daversa\n",
      "\n",
      "doc_index:  122365\n",
      "The food is excellent especially the lobster dishes. However when I went there with a friend their menu is all in Chinese and my friend and I could not read the menu because we don't read or speak Chinese. We have asked for an English menu but the server said they didn't have one! ?! So we told him what we wanted and he pretty much did the ordering for us. The dishes were pretty good however I would recommend you go with someone who speaks or read chinese because it would be a challenge to order otherwise.\n",
      "\n",
      "doc_index:  18410\n",
      "ive been hearing that this is the breakfast joint to hit up in vegas.  we went to this b/c i was so hungry after completing the first las vegas half marathon.  this place is away from the hustle and bustle of the strip on the west side of town.  it was a very good sign to see how busy this place was and how long the wait was.  just waiting outside and peaking into the heated outdoor eating area, you could see how enormous the plates were.  i should correct myself...they were enormous platters, not plates.  we were told that a party of 4 would be unable to sit in the bar area b/c the platters were huge.  \n",
      "i was impressed with the wide selection of breakfast items.  first off, going against the rules of post workout re hydration, i couldnt resist trying a libation from the mixed drink selection, why?  why not?  check this out...hash house bloody mary...premium vodka, bloody mary mix, fresh lemon juice, celery salt, Worcestershire and hot sauce, spicy pickled green beans (with extras ordered), 2 jalapeno stuffed olives, and a mt olive kosher petite dill pickle, with fresh cracked pepper sprinkled on top...f@ckin hella savory ...that won me there at that point.\n",
      "i ended up choosing the HH Famous Meatloaf with roasted red peppers, fresh spinach, and smoked mozzarella all on big chunks of fried potatoes.  my favorite and lovely dining companion ordered the Farmer's Daughter House Hash that came with two eggs your way, biscuit, watermelon, and portabello mushrooms, cheddar cheese, sun-dried tomatoes, etc. on also...big chunks of fried potatoes.  Both came on a huge skillet (which they called their \"smaller\" dishes...lies...they were huge...i just finished the leftovers 2 days later)  My other dining companion had a decadent omelet filled with smoked salmon and melted brie.  also, all our orders arrived with flaky biscuits, so you get to top it with some their own homemade strawberry jam (we ended up packaging some of the jam up for home...too bad it doesn't last long enough, not from me eating it all, but b/c it has no preservatives!!!\n",
      "this ranks high in my favorite breakfast places to eat.  i will definitely return here with my lovely dining companion to enjoy the other things on the menu, such as the sundried tomato, basil & goat cheese scrambled eggs, or the mushroom, artichoke hearts, sundried tomato and fresh spinach hash, or even the roasted pork tenderloin, charred tomato, corn, baby green beans and mozzarella hash, and definitely for that damn bloody mary.\n",
      "\n",
      "doc_index:  149691\n",
      "Breakfast was bad. Coffee was bitter. Omelette was so so. Potatoes had been in Warner so long they were hard and had a crust so hard you could not bite through it. Breakfast is better somewhere else.\n",
      "\n",
      "doc_index:  92652\n",
      "Located on the Fremont Street Experience in Downtown Las Vegas. Yet another classic piece of Las Vegas Old School. As I have said before, if you want the world class five star resort experience go to the Las Vegas Strip, but if you want a taste of the Las Vegas of a bygone era, come Downtown. The Fremont Hotel Casino is a great example of that. Great deals on  Food, Room and Gambling (Low table Limits) Always a great way to try out your sure fire system on craps, with little risk. Come at night for the full blown neon experience. Come on down and let loose. Live it up, you are in Las Vegas for cryin' out loud!\n",
      "\n",
      "Features of Topic 1:\n",
      "like just don car know store work people new make time day going need way\n",
      "\n",
      "doc_index:  4690\n",
      "We got the Summer of Cirque deal which was 2 tix for $100.  After taxes it came out to about $127 but that's still a great price for 2 tickets for any Vegas show.  The seats were up in the 300's but still good seats.  We could see everything just fine.  I'm not a big Beatles person so I only knew 2 or 3 of the songs plus I didn't really know the history of the Beatles so the story line was confusing.  I've been to 3 other Cirque shows and this would probably rank #3 after KA and O.\n",
      "\n",
      "doc_index:  296162\n",
      "The pulled pork sliders are awesome! Decor is a little cheesy with the dog theme, but its fun.\n",
      "\n",
      "doc_index:  211576\n",
      "Think L&L meets Chipotle. First time customers get to sample all the meats, and each one offers a unique flavor. I love the mango salsa and other island influenced salsas. It's a really fresh meal and is the perfect lunch spot!\n",
      "\n",
      "doc_index:  86324\n",
      "I have been wanting to get ombre hair for months but kept putting off until one day I just said \"YOLO\".  After reading a lot of reviews I decided to set up an appointment over the phone with Cielo. \n",
      "\n",
      "Got to my appointment on time and was quickly seated, where Liz sat down and discussed my plans. I showed her a few pics, and she was able to give me a realistic expectation and estimate of what could be done in the day. (She also regularly offered me a choice between water, coke, and diet coke while waiting on my hair to lighten, which was sweet of her.)\n",
      "\n",
      "She did a great job taking care of me (and my hair)! She knew exactly what I was looking for, and answered all my questions before, during, and after my session with her.  \n",
      "\n",
      "My hair looks fab and still healthy (even after 2 sessions of lightening!!)  I've never gotten more compliments on my hair before!!!\n",
      "\n",
      "doc_index:  23001\n",
      "One of the best buffets on the strip.  It's a bit pricey, but I think it's much better than some of the other places on the strip (cough Bacchanal, Wicked Spoon, Aria Buffet cough)  Staff was very attentive and super friendly.  I love how they had such a great selection on their gourmet food such as salami, proscuitto, olives, cheddar cheese, jack cheese, swiss cheese, bruschetta.  Their selection of juices were pretty good.  They also had a good selection of comfort foods like chicken noodle soup and pastas such as rigatoni and spaghetti.  Their seafood though, is what made it.  It's all about that snow crab leg!!!! :9\n",
      "\n",
      "Oh, and their desserts aren't too shabby either :D\n",
      "\n",
      "Features of Topic 2:\n",
      "great great service great food food great service great great place service atmosphere place great great atmosphere great experience awesome great job prices time\n",
      "\n",
      "doc_index:  21774\n",
      "I found HD nails when I was passing by the Beauty Supply Warehouse which is next door. I looked them up on Yelp and the reviews were good so I thought I would give them a chance. I went in yesterday for a shellac manicure. I had the please of getting my nails done by Kim who was excellent. She was very polite. Listened to what I wanted and gave her honest opinion also she did such a clean and precise job. She made sure to clean up all edges of my nails and gave me an amazing hand massage afterwards. I would highly recommend HD Nails for your nail needs. I am looking forwards to going back again in a couple weeks.\n",
      "\n",
      "doc_index:  224913\n",
      "I love this place! Yes I know, I can chop up my own vegetables at home for a lot cheaper. But honestly, who wants to do that after a long day at work?\n",
      "\n",
      "Here's the run down. You pile your salad with all the accoutrement. You pay for your food. Then you head towards all the hot food. All of which is delicious. \n",
      "\n",
      "They have tons of options when it comes to customizing your salad. Along with all the toppings, they have every dressing under the sun. I personally love the ranch, but I just limit myself to one little paper cup instead of drenching my whole salad so I can control my calorie intake. Because what's the point of salad if you're just going to drench it in cheese, dressing and croutons? \n",
      "\n",
      "As for the hot food, they have a large variety of soups including your basic chicken noodle. They also have baked potatoes, focaccia breads and pastas. And if you're not already full, they have dessert! For the health nuts, there's fruit and jello. If you want something more indulgent, there is frozen yogurt with the option of sprinkles, nuts and various sauces. \n",
      "\n",
      "This place is all about options! Something to keep in mind though, just because you're eating a salad, doesn't mean you're eating healthy. Watch what you put on it. And that's my public announcement for the day.\n",
      "\n",
      "doc_index:  285436\n"
     ]
    },
    {
     "ename": "KeyError",
     "evalue": "285436",
     "output_type": "error",
     "traceback": [
      "\u001b[0;31m---------------------------------------------------------------------------\u001b[0m",
      "\u001b[0;31mKeyError\u001b[0m                                  Traceback (most recent call last)",
      "\u001b[0;32m<ipython-input-131-0a90197dd1e1>\u001b[0m in \u001b[0;36m<module>\u001b[0;34m()\u001b[0m\n\u001b[1;32m     12\u001b[0m \u001b[0mnmf_W\u001b[0m \u001b[0;34m=\u001b[0m \u001b[0mnmf\u001b[0m\u001b[0;34m.\u001b[0m\u001b[0mtransform\u001b[0m\u001b[0;34m(\u001b[0m\u001b[0mtfidf\u001b[0m\u001b[0;34m)\u001b[0m\u001b[0;34m\u001b[0m\u001b[0m\n\u001b[1;32m     13\u001b[0m \u001b[0mnmf_H\u001b[0m \u001b[0;34m=\u001b[0m \u001b[0mnmf\u001b[0m\u001b[0;34m.\u001b[0m\u001b[0mcomponents_\u001b[0m\u001b[0;34m\u001b[0m\u001b[0m\n\u001b[0;32m---> 14\u001b[0;31m \u001b[0mdisplay_topics\u001b[0m\u001b[0;34m(\u001b[0m\u001b[0mnmf_H\u001b[0m\u001b[0;34m,\u001b[0m \u001b[0mnmf_W\u001b[0m\u001b[0;34m,\u001b[0m \u001b[0mtfidf_feature_names\u001b[0m\u001b[0;34m,\u001b[0m \u001b[0mX_train\u001b[0m\u001b[0;34m,\u001b[0m \u001b[0mn_top\u001b[0m\u001b[0;34m,\u001b[0m \u001b[0mno_top_documents\u001b[0m\u001b[0;34m)\u001b[0m\u001b[0;34m\u001b[0m\u001b[0m\n\u001b[0m",
      "\u001b[0;32m<ipython-input-131-0a90197dd1e1>\u001b[0m in \u001b[0;36mdisplay_topics\u001b[0;34m(H, W, feature_names, documents, no_top_words, no_top_documents)\u001b[0m\n\u001b[1;32m      8\u001b[0m         \u001b[0;32mfor\u001b[0m \u001b[0mdoc_index\u001b[0m \u001b[0;32min\u001b[0m \u001b[0mtop_doc_indices\u001b[0m\u001b[0;34m:\u001b[0m\u001b[0;34m\u001b[0m\u001b[0m\n\u001b[1;32m      9\u001b[0m             \u001b[0mprint\u001b[0m\u001b[0;34m(\u001b[0m\u001b[0;34m\"doc_index: \"\u001b[0m\u001b[0;34m,\u001b[0m \u001b[0mdoc_index\u001b[0m\u001b[0;34m)\u001b[0m\u001b[0;34m\u001b[0m\u001b[0m\n\u001b[0;32m---> 10\u001b[0;31m             \u001b[0mprint\u001b[0m\u001b[0;34m(\u001b[0m\u001b[0mdocuments\u001b[0m\u001b[0;34m[\u001b[0m\u001b[0mdoc_index\u001b[0m\u001b[0;34m]\u001b[0m\u001b[0;34m)\u001b[0m\u001b[0;34m\u001b[0m\u001b[0m\n\u001b[0m\u001b[1;32m     11\u001b[0m             \u001b[0mprint\u001b[0m\u001b[0;34m(\u001b[0m\u001b[0;34m)\u001b[0m\u001b[0;34m\u001b[0m\u001b[0m\n\u001b[1;32m     12\u001b[0m \u001b[0mnmf_W\u001b[0m \u001b[0;34m=\u001b[0m \u001b[0mnmf\u001b[0m\u001b[0;34m.\u001b[0m\u001b[0mtransform\u001b[0m\u001b[0;34m(\u001b[0m\u001b[0mtfidf\u001b[0m\u001b[0;34m)\u001b[0m\u001b[0;34m\u001b[0m\u001b[0m\n",
      "\u001b[0;32m/Users/zihaoxu/anaconda/lib/python3.5/site-packages/pandas/core/series.py\u001b[0m in \u001b[0;36m__getitem__\u001b[0;34m(self, key)\u001b[0m\n\u001b[1;32m    621\u001b[0m         \u001b[0mkey\u001b[0m \u001b[0;34m=\u001b[0m \u001b[0mcom\u001b[0m\u001b[0;34m.\u001b[0m\u001b[0m_apply_if_callable\u001b[0m\u001b[0;34m(\u001b[0m\u001b[0mkey\u001b[0m\u001b[0;34m,\u001b[0m \u001b[0mself\u001b[0m\u001b[0;34m)\u001b[0m\u001b[0;34m\u001b[0m\u001b[0m\n\u001b[1;32m    622\u001b[0m         \u001b[0;32mtry\u001b[0m\u001b[0;34m:\u001b[0m\u001b[0;34m\u001b[0m\u001b[0m\n\u001b[0;32m--> 623\u001b[0;31m             \u001b[0mresult\u001b[0m \u001b[0;34m=\u001b[0m \u001b[0mself\u001b[0m\u001b[0;34m.\u001b[0m\u001b[0mindex\u001b[0m\u001b[0;34m.\u001b[0m\u001b[0mget_value\u001b[0m\u001b[0;34m(\u001b[0m\u001b[0mself\u001b[0m\u001b[0;34m,\u001b[0m \u001b[0mkey\u001b[0m\u001b[0;34m)\u001b[0m\u001b[0;34m\u001b[0m\u001b[0m\n\u001b[0m\u001b[1;32m    624\u001b[0m \u001b[0;34m\u001b[0m\u001b[0m\n\u001b[1;32m    625\u001b[0m             \u001b[0;32mif\u001b[0m \u001b[0;32mnot\u001b[0m \u001b[0mis_scalar\u001b[0m\u001b[0;34m(\u001b[0m\u001b[0mresult\u001b[0m\u001b[0;34m)\u001b[0m\u001b[0;34m:\u001b[0m\u001b[0;34m\u001b[0m\u001b[0m\n",
      "\u001b[0;32m/Users/zihaoxu/anaconda/lib/python3.5/site-packages/pandas/core/indexes/base.py\u001b[0m in \u001b[0;36mget_value\u001b[0;34m(self, series, key)\u001b[0m\n\u001b[1;32m   2555\u001b[0m         \u001b[0;32mtry\u001b[0m\u001b[0;34m:\u001b[0m\u001b[0;34m\u001b[0m\u001b[0m\n\u001b[1;32m   2556\u001b[0m             return self._engine.get_value(s, k,\n\u001b[0;32m-> 2557\u001b[0;31m                                           tz=getattr(series.dtype, 'tz', None))\n\u001b[0m\u001b[1;32m   2558\u001b[0m         \u001b[0;32mexcept\u001b[0m \u001b[0mKeyError\u001b[0m \u001b[0;32mas\u001b[0m \u001b[0me1\u001b[0m\u001b[0;34m:\u001b[0m\u001b[0;34m\u001b[0m\u001b[0m\n\u001b[1;32m   2559\u001b[0m             \u001b[0;32mif\u001b[0m \u001b[0mlen\u001b[0m\u001b[0;34m(\u001b[0m\u001b[0mself\u001b[0m\u001b[0;34m)\u001b[0m \u001b[0;34m>\u001b[0m \u001b[0;36m0\u001b[0m \u001b[0;32mand\u001b[0m \u001b[0mself\u001b[0m\u001b[0;34m.\u001b[0m\u001b[0minferred_type\u001b[0m \u001b[0;32min\u001b[0m \u001b[0;34m[\u001b[0m\u001b[0;34m'integer'\u001b[0m\u001b[0;34m,\u001b[0m \u001b[0;34m'boolean'\u001b[0m\u001b[0;34m]\u001b[0m\u001b[0;34m:\u001b[0m\u001b[0;34m\u001b[0m\u001b[0m\n",
      "\u001b[0;32mpandas/_libs/index.pyx\u001b[0m in \u001b[0;36mpandas._libs.index.IndexEngine.get_value\u001b[0;34m()\u001b[0m\n",
      "\u001b[0;32mpandas/_libs/index.pyx\u001b[0m in \u001b[0;36mpandas._libs.index.IndexEngine.get_value\u001b[0;34m()\u001b[0m\n",
      "\u001b[0;32mpandas/_libs/index.pyx\u001b[0m in \u001b[0;36mpandas._libs.index.IndexEngine.get_loc\u001b[0;34m()\u001b[0m\n",
      "\u001b[0;32mpandas/_libs/hashtable_class_helper.pxi\u001b[0m in \u001b[0;36mpandas._libs.hashtable.Int64HashTable.get_item\u001b[0;34m()\u001b[0m\n",
      "\u001b[0;32mpandas/_libs/hashtable_class_helper.pxi\u001b[0m in \u001b[0;36mpandas._libs.hashtable.Int64HashTable.get_item\u001b[0;34m()\u001b[0m\n",
      "\u001b[0;31mKeyError\u001b[0m: 285436"
     ]
    }
   ],
   "source": [
    "no_top_documents = 5\n",
    "def display_topics(H, W, feature_names, documents, no_top_words, no_top_documents):\n",
    "    for topic_idx, topic in enumerate(H):\n",
    "        print(\"Features of Topic %d:\" % (topic_idx))\n",
    "        print(\" \".join([feature_names[i] for i in topic.argsort()[:-no_top_words - 1:-1]]))\n",
    "        print()\n",
    "        top_doc_indices = np.argsort( W[:,topic_idx] )[::-1][0:no_top_documents]\n",
    "        for doc_index in top_doc_indices:\n",
    "            print(\"doc_index: \", doc_index)\n",
    "            print(documents[doc_index])\n",
    "            print()\n",
    "nmf_W = nmf.transform(tfidf)\n",
    "nmf_H = nmf.components_\n",
    "display_topics(nmf_H, nmf_W, tfidf_feature_names, X_train, n_top, no_top_documents)\n"
   ]
  },
  {
   "cell_type": "code",
   "execution_count": 138,
   "metadata": {
    "collapsed": false
   },
   "outputs": [
    {
     "name": "stdout",
     "output_type": "stream",
     "text": [
      "Features of Topic 0:\n",
      "place great love staff friendly amazing definitely awesome favorite great place recommend love place best sandwiches absolutely\n",
      "\n",
      "doc_index:  234320\n",
      "Undeserving of the current 4+ star rating. Food isn't horrible but isn't anything special. Service was slow and inattentive for a near empty restaurant. Be sure to check your pho order because you may be missing some meats (ex. No tendon)\n",
      "\n",
      "doc_index:  310093\n",
      "Great foreign car repair shop, extremely capable, friendly and honest. Definitely professional with my Mercedes A+++\n",
      "\n",
      "doc_index:  179453\n",
      "This is an Italian deli that serves Italian food.  I read a few fellow Yelpers reviews and spotted the occasional check-ins which stoked my curiosity to eventually try it for myself.  If you are expecting a nice, polished eatery, this is not it.  But they do have a good selection of cured sausages, prepared sides, and serve a menu of traditional Italian fare.  Including a very mean Lobster Roll.\n",
      "\n",
      "That was what I ended up ordering based on the reviews I read, and it was very satisfying.  The bread roll that it was served in was nothing special, but the lobster filling was hot and delicious.  I also ordered the Rice Ball to go, as it was close to their closing time.  That was just okay.\n",
      "\n",
      "Anyway, I know I have to go back and try their White Pizza.\n",
      "\n",
      "Ambiance:  3/5  It is what it is. A deli with a few tables and chairs.\n",
      "\n",
      "Food:  4/5  Lobster Roll is delicious, not so much a fan of the Rice Ball.\n",
      "\n",
      "Parking:  4.5/5  In a strip mall with a lot of businesses, plenty of spaces.\n",
      "\n",
      "Service:  3.5/5  Took the order correctly, served the food when it was done.  What else do you want from deli?\n",
      "\n",
      "doc_index:  77440\n"
     ]
    },
    {
     "ename": "KeyError",
     "evalue": "77440",
     "output_type": "error",
     "traceback": [
      "\u001b[0;31m---------------------------------------------------------------------------\u001b[0m",
      "\u001b[0;31mKeyError\u001b[0m                                  Traceback (most recent call last)",
      "\u001b[0;32m<ipython-input-138-df6193b5cb02>\u001b[0m in \u001b[0;36m<module>\u001b[0;34m()\u001b[0m\n\u001b[1;32m      3\u001b[0m \u001b[0;34m\u001b[0m\u001b[0m\n\u001b[1;32m      4\u001b[0m \u001b[0mtf_feature_names\u001b[0m \u001b[0;34m=\u001b[0m \u001b[0mcount_vect\u001b[0m\u001b[0;34m.\u001b[0m\u001b[0mget_feature_names\u001b[0m\u001b[0;34m(\u001b[0m\u001b[0;34m)\u001b[0m\u001b[0;34m\u001b[0m\u001b[0m\n\u001b[0;32m----> 5\u001b[0;31m \u001b[0mdisplay_topics\u001b[0m\u001b[0;34m(\u001b[0m\u001b[0mlda_H\u001b[0m\u001b[0;34m,\u001b[0m \u001b[0mlda_W\u001b[0m\u001b[0;34m,\u001b[0m \u001b[0mtf_feature_names\u001b[0m\u001b[0;34m,\u001b[0m \u001b[0mX_train\u001b[0m\u001b[0;34m,\u001b[0m \u001b[0mn_top\u001b[0m\u001b[0;34m,\u001b[0m \u001b[0mno_top_documents\u001b[0m\u001b[0;34m)\u001b[0m\u001b[0;34m\u001b[0m\u001b[0m\n\u001b[0m",
      "\u001b[0;32m<ipython-input-131-0a90197dd1e1>\u001b[0m in \u001b[0;36mdisplay_topics\u001b[0;34m(H, W, feature_names, documents, no_top_words, no_top_documents)\u001b[0m\n\u001b[1;32m      8\u001b[0m         \u001b[0;32mfor\u001b[0m \u001b[0mdoc_index\u001b[0m \u001b[0;32min\u001b[0m \u001b[0mtop_doc_indices\u001b[0m\u001b[0;34m:\u001b[0m\u001b[0;34m\u001b[0m\u001b[0m\n\u001b[1;32m      9\u001b[0m             \u001b[0mprint\u001b[0m\u001b[0;34m(\u001b[0m\u001b[0;34m\"doc_index: \"\u001b[0m\u001b[0;34m,\u001b[0m \u001b[0mdoc_index\u001b[0m\u001b[0;34m)\u001b[0m\u001b[0;34m\u001b[0m\u001b[0m\n\u001b[0;32m---> 10\u001b[0;31m             \u001b[0mprint\u001b[0m\u001b[0;34m(\u001b[0m\u001b[0mdocuments\u001b[0m\u001b[0;34m[\u001b[0m\u001b[0mdoc_index\u001b[0m\u001b[0;34m]\u001b[0m\u001b[0;34m)\u001b[0m\u001b[0;34m\u001b[0m\u001b[0m\n\u001b[0m\u001b[1;32m     11\u001b[0m             \u001b[0mprint\u001b[0m\u001b[0;34m(\u001b[0m\u001b[0;34m)\u001b[0m\u001b[0;34m\u001b[0m\u001b[0m\n\u001b[1;32m     12\u001b[0m \u001b[0mnmf_W\u001b[0m \u001b[0;34m=\u001b[0m \u001b[0mnmf\u001b[0m\u001b[0;34m.\u001b[0m\u001b[0mtransform\u001b[0m\u001b[0;34m(\u001b[0m\u001b[0mtfidf\u001b[0m\u001b[0;34m)\u001b[0m\u001b[0;34m\u001b[0m\u001b[0m\n",
      "\u001b[0;32m/Users/zihaoxu/anaconda/lib/python3.5/site-packages/pandas/core/series.py\u001b[0m in \u001b[0;36m__getitem__\u001b[0;34m(self, key)\u001b[0m\n\u001b[1;32m    621\u001b[0m         \u001b[0mkey\u001b[0m \u001b[0;34m=\u001b[0m \u001b[0mcom\u001b[0m\u001b[0;34m.\u001b[0m\u001b[0m_apply_if_callable\u001b[0m\u001b[0;34m(\u001b[0m\u001b[0mkey\u001b[0m\u001b[0;34m,\u001b[0m \u001b[0mself\u001b[0m\u001b[0;34m)\u001b[0m\u001b[0;34m\u001b[0m\u001b[0m\n\u001b[1;32m    622\u001b[0m         \u001b[0;32mtry\u001b[0m\u001b[0;34m:\u001b[0m\u001b[0;34m\u001b[0m\u001b[0m\n\u001b[0;32m--> 623\u001b[0;31m             \u001b[0mresult\u001b[0m \u001b[0;34m=\u001b[0m \u001b[0mself\u001b[0m\u001b[0;34m.\u001b[0m\u001b[0mindex\u001b[0m\u001b[0;34m.\u001b[0m\u001b[0mget_value\u001b[0m\u001b[0;34m(\u001b[0m\u001b[0mself\u001b[0m\u001b[0;34m,\u001b[0m \u001b[0mkey\u001b[0m\u001b[0;34m)\u001b[0m\u001b[0;34m\u001b[0m\u001b[0m\n\u001b[0m\u001b[1;32m    624\u001b[0m \u001b[0;34m\u001b[0m\u001b[0m\n\u001b[1;32m    625\u001b[0m             \u001b[0;32mif\u001b[0m \u001b[0;32mnot\u001b[0m \u001b[0mis_scalar\u001b[0m\u001b[0;34m(\u001b[0m\u001b[0mresult\u001b[0m\u001b[0;34m)\u001b[0m\u001b[0;34m:\u001b[0m\u001b[0;34m\u001b[0m\u001b[0m\n",
      "\u001b[0;32m/Users/zihaoxu/anaconda/lib/python3.5/site-packages/pandas/core/indexes/base.py\u001b[0m in \u001b[0;36mget_value\u001b[0;34m(self, series, key)\u001b[0m\n\u001b[1;32m   2555\u001b[0m         \u001b[0;32mtry\u001b[0m\u001b[0;34m:\u001b[0m\u001b[0;34m\u001b[0m\u001b[0m\n\u001b[1;32m   2556\u001b[0m             return self._engine.get_value(s, k,\n\u001b[0;32m-> 2557\u001b[0;31m                                           tz=getattr(series.dtype, 'tz', None))\n\u001b[0m\u001b[1;32m   2558\u001b[0m         \u001b[0;32mexcept\u001b[0m \u001b[0mKeyError\u001b[0m \u001b[0;32mas\u001b[0m \u001b[0me1\u001b[0m\u001b[0;34m:\u001b[0m\u001b[0;34m\u001b[0m\u001b[0m\n\u001b[1;32m   2559\u001b[0m             \u001b[0;32mif\u001b[0m \u001b[0mlen\u001b[0m\u001b[0;34m(\u001b[0m\u001b[0mself\u001b[0m\u001b[0;34m)\u001b[0m \u001b[0;34m>\u001b[0m \u001b[0;36m0\u001b[0m \u001b[0;32mand\u001b[0m \u001b[0mself\u001b[0m\u001b[0;34m.\u001b[0m\u001b[0minferred_type\u001b[0m \u001b[0;32min\u001b[0m \u001b[0;34m[\u001b[0m\u001b[0;34m'integer'\u001b[0m\u001b[0;34m,\u001b[0m \u001b[0;34m'boolean'\u001b[0m\u001b[0;34m]\u001b[0m\u001b[0;34m:\u001b[0m\u001b[0;34m\u001b[0m\u001b[0m\n",
      "\u001b[0;32mpandas/_libs/index.pyx\u001b[0m in \u001b[0;36mpandas._libs.index.IndexEngine.get_value\u001b[0;34m()\u001b[0m\n",
      "\u001b[0;32mpandas/_libs/index.pyx\u001b[0m in \u001b[0;36mpandas._libs.index.IndexEngine.get_value\u001b[0;34m()\u001b[0m\n",
      "\u001b[0;32mpandas/_libs/index.pyx\u001b[0m in \u001b[0;36mpandas._libs.index.IndexEngine.get_loc\u001b[0;34m()\u001b[0m\n",
      "\u001b[0;32mpandas/_libs/hashtable_class_helper.pxi\u001b[0m in \u001b[0;36mpandas._libs.hashtable.Int64HashTable.get_item\u001b[0;34m()\u001b[0m\n",
      "\u001b[0;32mpandas/_libs/hashtable_class_helper.pxi\u001b[0m in \u001b[0;36mpandas._libs.hashtable.Int64HashTable.get_item\u001b[0;34m()\u001b[0m\n",
      "\u001b[0;31mKeyError\u001b[0m: 77440"
     ]
    }
   ],
   "source": [
    "lda_W = lda.transform(tf)\n",
    "lda_H = lda.components_\n",
    "\n",
    "tf_feature_names = count_vect.get_feature_names()\n",
    "display_topics(lda_H, lda_W, tf_feature_names, X_train, n_top, no_top_documents)"
   ]
  },
  {
   "cell_type": "code",
   "execution_count": null,
   "metadata": {
    "collapsed": true
   },
   "outputs": [],
   "source": []
  }
 ],
 "metadata": {
  "anaconda-cloud": {},
  "kernelspec": {
   "display_name": "Python 3",
   "language": "python",
   "name": "python3"
  },
  "language_info": {
   "codemirror_mode": {
    "name": "ipython",
    "version": 3
   },
   "file_extension": ".py",
   "mimetype": "text/x-python",
   "name": "python",
   "nbconvert_exporter": "python",
   "pygments_lexer": "ipython3",
   "version": "3.5.2"
  }
 },
 "nbformat": 4,
 "nbformat_minor": 2
}
